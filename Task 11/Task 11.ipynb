{
 "cells": [
  {
   "cell_type": "code",
   "execution_count": 125,
   "id": "4af31d47-080c-464d-aa69-e7ee7b171edb",
   "metadata": {},
   "outputs": [],
   "source": [
    "import numpy as np\n"
   ]
  },
  {
   "cell_type": "code",
   "execution_count": 126,
   "id": "a7ded480-4a9c-4622-9fc5-c1a0a5a0a2c5",
   "metadata": {},
   "outputs": [],
   "source": [
    "#7\n",
    "arr= np.arange(36).reshape(6,6)"
   ]
  },
  {
   "cell_type": "code",
   "execution_count": 127,
   "id": "e320d29e-00d1-4f45-b360-cd6ea062e575",
   "metadata": {},
   "outputs": [
    {
     "name": "stdout",
     "output_type": "stream",
     "text": [
      "Array\n",
      "[[ 0  1  2  3  4  5]\n",
      " [ 6  7  8  9 10 11]\n",
      " [12 13 14 15 16 17]\n",
      " [18 19 20 21 22 23]\n",
      " [24 25 26 27 28 29]\n",
      " [30 31 32 33 34 35]]\n"
     ]
    }
   ],
   "source": [
    "print(\"Array\")\n",
    "print(arr)"
   ]
  },
  {
   "cell_type": "code",
   "execution_count": 128,
   "id": "d6bc8c97-3c3e-4c6b-9aa2-cec9a2f777d7",
   "metadata": {},
   "outputs": [],
   "source": [
    "sub_arr=arr[1:3,1:3]"
   ]
  },
  {
   "cell_type": "code",
   "execution_count": 129,
   "id": "97dea534-4c07-4716-bedd-5da9e8dc00d2",
   "metadata": {},
   "outputs": [
    {
     "name": "stdout",
     "output_type": "stream",
     "text": [
      "sub_array\n",
      "[[ 7  8]\n",
      " [13 14]]\n"
     ]
    }
   ],
   "source": [
    "print(\"sub_array\")\n",
    "print(sub_arr)"
   ]
  },
  {
   "cell_type": "code",
   "execution_count": 130,
   "id": "dd2b9355-126c-497f-bfce-34112d2c4043",
   "metadata": {},
   "outputs": [
    {
     "name": "stdout",
     "output_type": "stream",
     "text": [
      "Original Array\n",
      "[[[0]\n",
      "  [1]]\n",
      "\n",
      " [[2]\n",
      "  [3]]\n",
      "\n",
      " [[4]\n",
      "  [5]]]\n",
      "\n",
      "extract elements of array\n",
      "[[2]\n",
      " [3]]\n"
     ]
    }
   ],
   "source": [
    "#8\n",
    "arr3=np.arange(6).reshape(3,2,1)\n",
    "print(\"Original Array\")\n",
    "print(arr3)\n",
    "\n",
    "extract_ele = arr3[1,:2, :]\n",
    "print(\"\\nextract elements of array\")\n",
    "print(extract_ele)\n",
    "\n"
   ]
  },
  {
   "cell_type": "code",
   "execution_count": 131,
   "id": "7453ddf1-a84c-40ec-a5c1-f0ec21d422cb",
   "metadata": {},
   "outputs": [
    {
     "name": "stdout",
     "output_type": "stream",
     "text": [
      "[12  3  4  5  6  7  4  3]\n",
      "[3 5 6 4]\n"
     ]
    }
   ],
   "source": [
    "#9\n",
    "arr5= np.array([12,3,4,5,6,7,4,3])\n",
    "print(arr5)\n",
    "position=[1,3,4,6]\n",
    "\n",
    "ele=arr5[position]\n",
    "print(ele)"
   ]
  },
  {
   "cell_type": "code",
   "execution_count": 132,
   "id": "e480f42b-371a-462f-9958-146aca778f33",
   "metadata": {},
   "outputs": [
    {
     "name": "stdout",
     "output_type": "stream",
     "text": [
      "array\n",
      "[[ 1  2  3  4]\n",
      " [ 5  6  7  8]\n",
      " [ 9 10 11 12]\n",
      " [13 14 15 16]]\n",
      "Extracted elements\n",
      "[[ 2  4]\n",
      " [10 12]\n",
      " [10 12]]\n"
     ]
    }
   ],
   "source": [
    "#10 i have used fancy indexing here ,this comment is just for reminder ,for myself\n",
    "x=np.array([[1,2,3,4],[5,6,7,8],[9,10,11,12],[13,14,15,16]])\n",
    "print(\"array\")\n",
    "print(x)\n",
    "row=[0,2,2]\n",
    "col=[1,3]\n",
    "\n",
    "ans=x[row, :][:, col]\n",
    "print(\"Extracted elements\")\n",
    "print(ans)"
   ]
  },
  {
   "cell_type": "code",
   "execution_count": 133,
   "id": "073a7a8c-efa0-4a49-90d7-7954254cfa67",
   "metadata": {},
   "outputs": [
    {
     "name": "stdout",
     "output_type": "stream",
     "text": [
      "array \n",
      "[[ 0  1  2  3  4  5]\n",
      " [ 6  7  8  9 10 11]\n",
      " [12 13 14 15 16 17]\n",
      " [18 19 20 21 22 23]\n",
      " [24 25 26 27 28 29]\n",
      " [30 31 32 33 34 35]]\n"
     ]
    },
    {
     "data": {
      "text/plain": [
       "array([ 8, 13, 21])"
      ]
     },
     "execution_count": 133,
     "metadata": {},
     "output_type": "execute_result"
    }
   ],
   "source": [
    "# just for practise fancy indexing ,its not task.\n",
    "x=np.arange(36).reshape(6,6)\n",
    "print(\"array \")\n",
    "print(x)\n",
    "\n",
    "row=np.array([1,2,3])\n",
    "col= np.array([2,1,3])\n",
    "x[row,col]\n"
   ]
  },
  {
   "cell_type": "code",
   "execution_count": 134,
   "id": "565ead57-6646-43c2-aa22-1730d9f56d05",
   "metadata": {},
   "outputs": [
    {
     "name": "stdout",
     "output_type": "stream",
     "text": [
      "Array:\n",
      "[12 13  2  3  5 16  8  7  1 10]\n",
      "Extracted elements that are greater then 8\n",
      "[12 13 16 10]\n"
     ]
    }
   ],
   "source": [
    "#11\n",
    "arr=np.array([12,13,2,3,5,16,8,7,1,10])\n",
    "print(\"Array:\")\n",
    "print(arr)\n",
    "bolean_mask=arr>8\n",
    "elements= arr[bolean_mask]\n",
    "print(\"Extracted elements that are greater then 8\")\n",
    "print(elements)"
   ]
  },
  {
   "cell_type": "code",
   "execution_count": 135,
   "id": "e6745cfd-8d8e-4955-9e50-92f8ea2a92ee",
   "metadata": {},
   "outputs": [
    {
     "name": "stdout",
     "output_type": "stream",
     "text": [
      "Array:\n",
      "[[ 0  1  2  3  4  5]\n",
      " [ 6  7  8  9 10 11]\n",
      " [12 13 14 15 16 17]\n",
      " [18 19 20 21 22 23]\n",
      " [24 25 26 27 28 29]\n",
      " [30 31 32 33 34 35]]\n",
      "Replaced: \n",
      "\n",
      "[[ 0  1  2  3  4  5]\n",
      " [ 6  7  8  9 10 11]\n",
      " [12 13  0  0  0  0]\n",
      " [ 0  0  0  0  0  0]\n",
      " [ 0  0  0  0  0  0]\n",
      " [ 0  0  0  0  0  0]]\n"
     ]
    }
   ],
   "source": [
    "#12\n",
    "arr=np.arange(36).reshape(6,6)\n",
    "print(\"Array:\")\n",
    "print(arr)\n",
    "bolean_mask=arr>13\n",
    "arr[bolean_mask]=0\n",
    "print(\"Replaced: \\n\")\n",
    "print(arr)\n",
    "\n"
   ]
  },
  {
   "cell_type": "code",
   "execution_count": 136,
   "id": "ee64cb01-8c8e-4883-a5e3-2c01fc08ecd5",
   "metadata": {},
   "outputs": [
    {
     "name": "stdout",
     "output_type": "stream",
     "text": [
      "[1 2 3]\n",
      "[[10 20 30]\n",
      " [40 50 60]\n",
      " [40 10 20]\n",
      " [30 40 50]]\n",
      "result\n",
      "[[11 22 33]\n",
      " [41 52 63]\n",
      " [41 12 23]\n",
      " [31 42 53]]\n"
     ]
    }
   ],
   "source": [
    "# 5 broadcasting\n",
    "array1D=np.array([1,2,3])\n",
    "array2D=np.array([[10,20,30],[40,50,60],[40,10,20],[30,40,50]])\n",
    "result=np.add(array1D,array2D)\n",
    "print(array1D)\n",
    "print(array2D)\n",
    "print(\"result\")\n",
    "print(result)"
   ]
  },
  {
   "cell_type": "code",
   "execution_count": 137,
   "id": "fb04b6bc-1434-4dbb-a4b0-70d4985fde4d",
   "metadata": {},
   "outputs": [
    {
     "name": "stdout",
     "output_type": "stream",
     "text": [
      "(3, 3)\n",
      "(3,)\n",
      "[[ 1  4  9]\n",
      " [ 2  6 12]\n",
      " [ 4  6  6]]\n"
     ]
    }
   ],
   "source": [
    "#6\n",
    "x=np.array([[1,2,3],[2,3,4],[4,3,2]])\n",
    "print(x.shape)\n",
    "y=np.array([1,2,3])\n",
    "print(y.shape)\n",
    "z=x*y\n",
    "print(z)"
   ]
  },
  {
   "cell_type": "code",
   "execution_count": 138,
   "id": "cf94b46e-7c6d-4aea-adb9-7baa4926f192",
   "metadata": {},
   "outputs": [
    {
     "name": "stdout",
     "output_type": "stream",
     "text": [
      "[1 2]\n",
      "[[1]\n",
      " [3]]\n",
      "product\n",
      "[[1 2]\n",
      " [3 6]]\n"
     ]
    }
   ],
   "source": [
    "# further practise of broadcasting\n",
    "c=np.array([1,2])\n",
    "print(c)\n",
    "d=np.array([[1],[3]])\n",
    "print(d)\n",
    "f=c*d\n",
    "print(\"product\")\n",
    "print(f)"
   ]
  },
  {
   "cell_type": "code",
   "execution_count": 139,
   "id": "ef93b339-42a5-43e5-b3a6-8a5743b61d3d",
   "metadata": {},
   "outputs": [
    {
     "name": "stdout",
     "output_type": "stream",
     "text": [
      "(3, 1)\n",
      "(1, 4)\n",
      "array1\n",
      " [[1]\n",
      " [2]\n",
      " [4]]\n",
      "array2\n",
      " [[1 2 3 4]]\n",
      "sum\n",
      "[[2 3 4 5]\n",
      " [3 4 5 6]\n",
      " [5 6 7 8]]\n"
     ]
    }
   ],
   "source": [
    "#7\n",
    "s=np.array([[1],[2],[4]])\n",
    "print(s.shape)\n",
    "r=np.array([[1,2,3,4]])\n",
    "print(r.shape)\n",
    "\n",
    "print(\"array1\\n\",s)\n",
    "print(\"array2\\n\",r)\n",
    "\n",
    "ans=np.add(s,r)\n",
    "print(\"sum\")\n",
    "print(ans)"
   ]
  },
  {
   "cell_type": "code",
   "execution_count": 140,
   "id": "350e2148-68de-4efc-86df-eca879c14b3b",
   "metadata": {},
   "outputs": [
    {
     "name": "stdout",
     "output_type": "stream",
     "text": [
      "(2, 3, 4)\n",
      "(3, 4)\n",
      "array1\n",
      " [[1]\n",
      " [2]\n",
      " [4]]\n",
      "array2\n",
      " [[1 2 3 4]]\n",
      "sum\n",
      "[[[ 2  4  6  8]\n",
      "  [ 6  8 10 12]\n",
      "  [10 12 14 16]]\n",
      "\n",
      " [[14 16 18 20]\n",
      "  [18 20 22 24]\n",
      "  [22 24 26 28]]]\n"
     ]
    }
   ],
   "source": [
    "#8\n",
    "g = np.array([\n",
    "    [[1, 2, 3, 4],\n",
    "     [5, 6, 7, 8],\n",
    "     [9, 10, 11, 12]],\n",
    "\n",
    "    [[13, 14, 15, 16],\n",
    "     [17, 18, 19, 20],\n",
    "     [21, 22, 23, 24]]\n",
    "])\n",
    "print(g.shape)\n",
    "h=np.array([[1,2,3,4],[1,2,3,4],[1,2,3,4]])\n",
    "print(h.shape)\n",
    "\n",
    "print(\"array1\\n\",s)\n",
    "print(\"array2\\n\",r)\n",
    "\n",
    "ans= g+h\n",
    "print(\"sum\")\n",
    "print(ans)"
   ]
  },
  {
   "cell_type": "code",
   "execution_count": 141,
   "id": "18b47f10-4436-4a56-ae8c-5cb338391733",
   "metadata": {},
   "outputs": [
    {
     "name": "stdout",
     "output_type": "stream",
     "text": [
      "array 2D\n",
      "[[ 1  2  3  4  5]\n",
      " [ 6  7  8  9 10]\n",
      " [11 12 13 14 15]\n",
      " [16 17 18 19 20]\n",
      " [21 22 23 24 25]]\n",
      "Sliced array\n",
      "[[ 1  3  5]\n",
      " [11 13 15]\n",
      " [21 23 25]]\n",
      "array 1D\n",
      "[1, 2, 3]\n",
      "sum of arrays:\n",
      "[[ 2  5  8]\n",
      " [12 15 18]\n",
      " [22 25 28]]\n"
     ]
    }
   ],
   "source": [
    "#some more 7\n",
    "arr1=np.array([[1,2,3,4,5],[6,7,8,9,10],[11,12,13,14,15],[16,17,18,19,20],[21,22,23,24,25]])\n",
    "print(\"array 2D\")\n",
    "print(arr1)\n",
    "s=arr1[::2,::2]\n",
    "print(\"Sliced array\")\n",
    "print(s)\n",
    "arr2=([1,2,3])\n",
    "print(\"array 1D\")\n",
    "print(arr2)\n",
    "added=arr2 + s\n",
    "print(\"sum of arrays:\")\n",
    "print(added)"
   ]
  },
  {
   "cell_type": "code",
   "execution_count": 142,
   "id": "9ae9c4e2-18b9-4e61-9e5d-2d3b7ddc4954",
   "metadata": {},
   "outputs": [
    {
     "name": "stdout",
     "output_type": "stream",
     "text": [
      "3d array\n",
      "[[[1]\n",
      "  [2]]\n",
      "\n",
      " [[3]\n",
      "  [4]]\n",
      "\n",
      " [[5]\n",
      "  [6]]]\n",
      "sub_array\n",
      "[[[1]\n",
      "  [2]]\n",
      "\n",
      " [[3]\n",
      "  [4]]\n",
      "\n",
      " [[5]\n",
      "  [6]]]\n",
      "2d array\n",
      "[[1 2]\n",
      " [1 2]\n",
      " [2 3]]\n",
      "answer\n",
      "[[[0]\n",
      "  [0]]\n",
      "\n",
      " [[2]\n",
      "  [2]]\n",
      "\n",
      " [[3]\n",
      "  [3]]]\n"
     ]
    }
   ],
   "source": [
    "#8\n",
    "a=np.array([[[1],[2]],[[3],[4]],[[5],[6]]])\n",
    "print(\"3d array\")\n",
    "print(a)\n",
    "\n",
    "sub=a[:,:,:]\n",
    "print(\"sub_array\")\n",
    "print(sub)\n",
    "\n",
    "b=np.array([[1,2],[1,2],[2,3]])\n",
    "print(\"2d array\")\n",
    "print(b)\n",
    "\n",
    "extract= b[:, :,np.newaxis]\n",
    "answer= sub - extract\n",
    "print(\"answer\")\n",
    "print(answer)"
   ]
  },
  {
   "cell_type": "code",
   "execution_count": 143,
   "id": "4a3144a9-6a29-4129-923a-aef43f9c16ee",
   "metadata": {},
   "outputs": [
    {
     "name": "stdout",
     "output_type": "stream",
     "text": [
      "diagonal elements [1 3 4]\n",
      "diagonal elements as 1D array [1 3 4]\n"
     ]
    }
   ],
   "source": [
    "#9\n",
    "arr=np.array([[1,2,3],[2,3,4],[2,3,4]])\n",
    "dia_ele=np.diag(arr)\n",
    "print(\"diagonal elements\",dia_ele)\n",
    "\n",
    "array_1d_dia=dia_ele.flatten()\n",
    "print(\"diagonal elements as 1D array\",array_1d_dia)"
   ]
  },
  {
   "cell_type": "code",
   "execution_count": 144,
   "id": "1b8457a4-8b5a-4a12-b271-c7af3bcc5001",
   "metadata": {},
   "outputs": [
    {
     "name": "stdout",
     "output_type": "stream",
     "text": [
      "origiinal array\n",
      "[[1 2 3]\n",
      " [2 3 4]\n",
      " [2 3 4]]\n",
      "reversed array\n",
      "[[3 2 1]\n",
      " [4 3 2]\n",
      " [4 3 2]]\n"
     ]
    }
   ],
   "source": [
    "#10\n",
    "arr=np.array([[1,2,3],[2,3,4],[2,3,4]])\n",
    "reversed_arr=arr[:,::-1]\n",
    "print(\"origiinal array\")\n",
    "print(arr)\n",
    "\n",
    "print(\"reversed array\")\n",
    "print(reversed_arr)\n"
   ]
  },
  {
   "cell_type": "code",
   "execution_count": 145,
   "id": "fbf6a29e-e5d5-4ad0-841b-1757a023bbdb",
   "metadata": {},
   "outputs": [
    {
     "name": "stdout",
     "output_type": "stream",
     "text": [
      "3D array shape (7, 6, 5)\n",
      "sub array shape (2, 3, 4)\n",
      "1D array sshape (4,)\n",
      "result array shape (2, 3, 4)\n",
      "sub array\n",
      "[[[5 7 9 3]\n",
      "  [3 3 3 9]\n",
      "  [0 0 6 1]]\n",
      "\n",
      " [[3 7 4 6]\n",
      "  [0 5 8 3]\n",
      "  [2 8 4 6]]]\n",
      "1D array\n",
      "[1 2 3 4]\n",
      "result\n",
      "[[[ 6  9 12  7]\n",
      "  [ 4  5  6 13]\n",
      "  [ 1  2  9  5]]\n",
      "\n",
      " [[ 4  9  7 10]\n",
      "  [ 1  7 11  7]\n",
      "  [ 3 10  7 10]]]\n"
     ]
    }
   ],
   "source": [
    "#11\n",
    "arr3D=np.random.randint(0,10,size=(7,6,5))\n",
    "sub_arr=arr3D[:2, :3, :4]\n",
    "arr1D=np.array([1,2,3,4])\n",
    "result=sub_arr+ arr1D\n",
    "\n",
    "print(\"3D array shape\",arr3D.shape)\n",
    "print(\"sub array shape\",sub_arr.shape) \n",
    "print(\"1D array sshape\",arr1D.shape)\n",
    "print(\"result array shape\",result.shape)\n",
    "print(\"sub array\")\n",
    "print(sub_arr)\n",
    "print(\"1D array\")\n",
    "print(arr1D)\n",
    "\n",
    "print(\"result\")\n",
    "print(result)"
   ]
  },
  {
   "cell_type": "code",
   "execution_count": 146,
   "id": "57716060-ed5a-4662-b40b-6cd1b8309b5d",
   "metadata": {},
   "outputs": [
    {
     "name": "stdout",
     "output_type": "stream",
     "text": [
      "array\n",
      "[[2 8 2]\n",
      " [1 8 6]\n",
      " [4 8 4]\n",
      " [6 6 8]\n",
      " [5 8 1]]\n",
      "colomun adition\n",
      "[[ 2  8 10]\n",
      " [ 1  8  9]\n",
      " [ 4  8 12]\n",
      " [ 6  6 12]\n",
      " [ 5  8 13]]\n"
     ]
    }
   ],
   "source": [
    "#12\n",
    "arr=np.random.randint(1,10,size=(5,3))\n",
    "print(\"array\")\n",
    "print(arr)\n",
    "\n",
    "arr[:,-1]= arr[:,0] + arr[:,1]\n",
    "print(\"colomun adition\")\n",
    "print(arr)"
   ]
  },
  {
   "cell_type": "code",
   "execution_count": null,
   "id": "184f962c-604d-44a0-a643-7dfb08542094",
   "metadata": {},
   "outputs": [],
   "source": []
  }
 ],
 "metadata": {
  "kernelspec": {
   "display_name": "Python 3 (ipykernel)",
   "language": "python",
   "name": "python3"
  },
  "language_info": {
   "codemirror_mode": {
    "name": "ipython",
    "version": 3
   },
   "file_extension": ".py",
   "mimetype": "text/x-python",
   "name": "python",
   "nbconvert_exporter": "python",
   "pygments_lexer": "ipython3",
   "version": "3.12.2"
  }
 },
 "nbformat": 4,
 "nbformat_minor": 5
}
