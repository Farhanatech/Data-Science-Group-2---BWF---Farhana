{
 "cells": [
  {
   "cell_type": "code",
   "execution_count": 27,
   "id": "95e1c69e-5feb-40f7-bc2b-38e6eb3bede6",
   "metadata": {},
   "outputs": [
    {
     "name": "stdin",
     "output_type": "stream",
     "text": [
      "Enter First Number 2\n"
     ]
    }
   ],
   "source": [
    "a=float(input(\"Enter First Number\"))"
   ]
  },
  {
   "cell_type": "code",
   "execution_count": 28,
   "id": "f67ab4e8-2b16-4850-a091-d3a2d841f6e8",
   "metadata": {},
   "outputs": [
    {
     "name": "stdin",
     "output_type": "stream",
     "text": [
      "Enter Second Number 2\n"
     ]
    }
   ],
   "source": [
    "b=float(input(\"Enter Second Number\"))\n",
    "\n"
   ]
  },
  {
   "cell_type": "code",
   "execution_count": 29,
   "id": "d3180bac-ac0c-439d-9001-9a1725c2a429",
   "metadata": {},
   "outputs": [],
   "source": [
    "sum=a+b\n",
    "quotient=a/b\n",
    "product=a*b\n",
    "difference=a-b"
   ]
  },
  {
   "cell_type": "code",
   "execution_count": 30,
   "id": "0485b118-2add-4582-b7c9-0a01300d42fd",
   "metadata": {},
   "outputs": [
    {
     "name": "stdout",
     "output_type": "stream",
     "text": [
      "Sum is=  4.0\n",
      "Quotient is=  1.0\n",
      "Product is=  4.0\n",
      "Difference is=  0.0\n"
     ]
    }
   ],
   "source": [
    "print(\"Sum is= \",sum)\n",
    "print(\"Quotient is= \" ,quotient)\n",
    "print(\"Product is= \",product)\n",
    "print(\"Difference is= \",difference)"
   ]
  },
  {
   "cell_type": "code",
   "execution_count": null,
   "id": "d32e92e5-2f89-498c-9d7e-6d6a18c395cd",
   "metadata": {},
   "outputs": [],
   "source": []
  }
 ],
 "metadata": {
  "kernelspec": {
   "display_name": "Python 3 (ipykernel)",
   "language": "python",
   "name": "python3"
  },
  "language_info": {
   "codemirror_mode": {
    "name": "ipython",
    "version": 3
   },
   "file_extension": ".py",
   "mimetype": "text/x-python",
   "name": "python",
   "nbconvert_exporter": "python",
   "pygments_lexer": "ipython3",
   "version": "3.12.2"
  }
 },
 "nbformat": 4,
 "nbformat_minor": 5
}
