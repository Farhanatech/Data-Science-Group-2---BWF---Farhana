{
 "cells": [
  {
   "cell_type": "code",
   "execution_count": 28,
   "id": "4f5b9df8-fcf5-408f-a74f-c1e3f53514ca",
   "metadata": {},
   "outputs": [
    {
     "name": "stdout",
     "output_type": "stream",
     "text": [
      "* \n",
      "* * \n",
      "* * * \n",
      "* * * * \n",
      "* * * * * \n"
     ]
    }
   ],
   "source": [
    "for i in range(1, 6):\n",
    "    for j in range(1, i + 1):\n",
    "        print(\"*\", end=\" \")\n",
    "    print()\n"
   ]
  },
  {
   "cell_type": "code",
   "execution_count": 29,
   "id": "84ee1d4d-55d8-4901-989d-ada86af957eb",
   "metadata": {},
   "outputs": [
    {
     "name": "stdout",
     "output_type": "stream",
     "text": [
      "* * * * * \n",
      " * * * *  \n",
      "  * * *   \n",
      "   * *    \n",
      "    *     \n"
     ]
    }
   ],
   "source": [
    "max_length = 5\n",
    "\n",
    "for i in range(max_length, 0, -1):\n",
    "    pattern = ' '.join('*' * i)\n",
    "    print(pattern.center(max_length * 2))\n"
   ]
  },
  {
   "cell_type": "code",
   "execution_count": 30,
   "id": "f4d670ab-d89f-4987-ad42-8242f57ca31c",
   "metadata": {},
   "outputs": [
    {
     "name": "stdout",
     "output_type": "stream",
     "text": [
      "    *     \n",
      "   * *    \n",
      "  * * *   \n",
      " * * * *  \n",
      "* * * * * \n"
     ]
    }
   ],
   "source": [
    "max_length = 5\n",
    "\n",
    "for i in range(1, max_length + 1):\n",
    "    pattern = ' '.join('*' * i)\n",
    "    print(pattern.center(max_length * 2))\n"
   ]
  },
  {
   "cell_type": "code",
   "execution_count": 31,
   "id": "a5145f30-1fc8-41bc-8a12-eef4e09d268a",
   "metadata": {},
   "outputs": [
    {
     "name": "stdout",
     "output_type": "stream",
     "text": [
      "1 \n",
      "2 3 \n",
      "4 5 6 \n",
      "7 8 9 10 \n",
      "11 12 13 14 15 \n"
     ]
    }
   ],
   "source": [
    "current_num = 1\n",
    "rows = 5\n",
    "stop = 2\n",
    "for i in range(rows):\n",
    "    for column in range(1, stop):\n",
    "        print(current_num, end=' ')\n",
    "        current_num += 1\n",
    "    print(\"\")\n",
    "    stop += 1"
   ]
  },
  {
   "cell_type": "code",
   "execution_count": 32,
   "id": "101d3552-cbc2-4e78-93a0-938f52cc283e",
   "metadata": {},
   "outputs": [
    {
     "name": "stdout",
     "output_type": "stream",
     "text": [
      "    A     \n",
      "   A B    \n",
      "  A B C   \n",
      " A B C D  \n",
      "A B C D E \n"
     ]
    }
   ],
   "source": [
    "alphabet = \"ABCDEFGHIJKLMNOPQRSTUVWXYZ\"\n",
    "max_length = 5\n",
    "\n",
    "for i in range(1, max_length + 1):\n",
    "    pattern = ' '.join(alphabet[:i])\n",
    "    print(pattern.center(max_length * 2))\n"
   ]
  },
  {
   "cell_type": "code",
   "execution_count": null,
   "id": "28af6c14-3a50-486d-93a4-a0d667bc1e60",
   "metadata": {},
   "outputs": [],
   "source": []
  }
 ],
 "metadata": {
  "kernelspec": {
   "display_name": "Python 3 (ipykernel)",
   "language": "python",
   "name": "python3"
  },
  "language_info": {
   "codemirror_mode": {
    "name": "ipython",
    "version": 3
   },
   "file_extension": ".py",
   "mimetype": "text/x-python",
   "name": "python",
   "nbconvert_exporter": "python",
   "pygments_lexer": "ipython3",
   "version": "3.12.2"
  }
 },
 "nbformat": 4,
 "nbformat_minor": 5
}
