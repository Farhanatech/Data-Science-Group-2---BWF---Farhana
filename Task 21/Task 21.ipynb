{
 "cells": [
  {
   "cell_type": "code",
   "execution_count": 1,
   "id": "e08bc611-aab9-476d-bc23-be76ecc5d107",
   "metadata": {},
   "outputs": [],
   "source": [
    "import numpy as np\n"
   ]
  },
  {
   "cell_type": "markdown",
   "id": "922864e6-7f34-4faa-b36c-c97a0bfce277",
   "metadata": {},
   "source": [
    "# Zero matirx"
   ]
  },
  {
   "cell_type": "code",
   "execution_count": 28,
   "id": "a50f8606-7c0a-493c-a519-4b3cdc38c4bf",
   "metadata": {},
   "outputs": [
    {
     "data": {
      "text/plain": [
       "array([[0., 0., 0.],\n",
       "       [0., 0., 0.],\n",
       "       [0., 0., 0.]])"
      ]
     },
     "execution_count": 28,
     "metadata": {},
     "output_type": "execute_result"
    }
   ],
   "source": [
    "zero_matrix = np.zeros((3, 3)) \n",
    "zero_matrix"
   ]
  },
  {
   "cell_type": "markdown",
   "id": "e8274fc8-ef65-4ae3-ac7d-bd4cae593880",
   "metadata": {},
   "source": [
    "# identity_matrix"
   ]
  },
  {
   "cell_type": "code",
   "execution_count": 29,
   "id": "e5f3dc3c-df82-4c33-8764-f0add5b8d7e4",
   "metadata": {},
   "outputs": [
    {
     "data": {
      "text/plain": [
       "array([[1., 0., 0.],\n",
       "       [0., 1., 0.],\n",
       "       [0., 0., 1.]])"
      ]
     },
     "execution_count": 29,
     "metadata": {},
     "output_type": "execute_result"
    }
   ],
   "source": [
    "identity_matrix = np.eye(3)  \n",
    "identity_matrix"
   ]
  },
  {
   "cell_type": "markdown",
   "id": "f53fa95c-ed4f-4ca0-a587-debedc470690",
   "metadata": {},
   "source": [
    "# random_matrix"
   ]
  },
  {
   "cell_type": "code",
   "execution_count": 30,
   "id": "1f693ed4-ddbe-4d31-b0e5-df690169ef77",
   "metadata": {},
   "outputs": [
    {
     "data": {
      "text/plain": [
       "array([[0.06813968, 0.23696607, 0.91067095],\n",
       "       [0.81626169, 0.53214091, 0.74478815],\n",
       "       [0.52640892, 0.80869188, 0.48235652]])"
      ]
     },
     "execution_count": 30,
     "metadata": {},
     "output_type": "execute_result"
    }
   ],
   "source": [
    "random_matrix = np.random.rand(3, 3)\n",
    "random_matrix"
   ]
  },
  {
   "cell_type": "markdown",
   "id": "f54a72ad-1d86-4f06-ab27-beb4fd0129e5",
   "metadata": {},
   "source": [
    "# Perform Basic Matrix Operations:"
   ]
  },
  {
   "cell_type": "code",
   "execution_count": 31,
   "id": "5c7abb49-e09b-4ec9-8160-4a8cc3bf4d84",
   "metadata": {},
   "outputs": [
    {
     "name": "stdout",
     "output_type": "stream",
     "text": [
      "addition\n",
      "subtraction\n"
     ]
    },
    {
     "data": {
      "text/plain": [
       "array([[-4, -4],\n",
       "       [-4, -4]])"
      ]
     },
     "execution_count": 31,
     "metadata": {},
     "output_type": "execute_result"
    }
   ],
   "source": [
    "A = np.array([[1, 2], [3, 4]])\n",
    "B = np.array([[5, 6], [7, 8]])\n",
    "addition = A + B\n",
    "subtraction = A - B\n",
    "print('addition')\n",
    "addition\n",
    "print('subtraction')\n",
    "subtraction"
   ]
  },
  {
   "cell_type": "code",
   "execution_count": 32,
   "id": "cdd145f4-b99e-4626-bec5-b2d9fd24b1e5",
   "metadata": {},
   "outputs": [
    {
     "name": "stdout",
     "output_type": "stream",
     "text": [
      "multiplication\n"
     ]
    },
    {
     "data": {
      "text/plain": [
       "array([[19, 22],\n",
       "       [43, 50]])"
      ]
     },
     "execution_count": 32,
     "metadata": {},
     "output_type": "execute_result"
    }
   ],
   "source": [
    "multiplication = np.dot(A, B)\n",
    "print('multiplication')\n",
    "multiplication"
   ]
  },
  {
   "cell_type": "code",
   "execution_count": 33,
   "id": "13e1609b-a9a0-4155-8775-5d253f00562f",
   "metadata": {},
   "outputs": [
    {
     "name": "stdout",
     "output_type": "stream",
     "text": [
      "Transpose of matrix\n"
     ]
    },
    {
     "data": {
      "text/plain": [
       "array([[1, 3],\n",
       "       [2, 4]])"
      ]
     },
     "execution_count": 33,
     "metadata": {},
     "output_type": "execute_result"
    }
   ],
   "source": [
    "transpose = A.T\n",
    "print('Transpose of matrix')\n",
    "transpose\n"
   ]
  },
  {
   "cell_type": "markdown",
   "id": "8e870e18-e3d4-4a75-a8fc-b802adb211f9",
   "metadata": {},
   "source": [
    "# Determinant and inverse"
   ]
  },
  {
   "cell_type": "code",
   "execution_count": 37,
   "id": "0bacbfe5-8e0d-465b-8559-d0459c0c9725",
   "metadata": {},
   "outputs": [
    {
     "data": {
      "text/plain": [
       "array([[-2. ,  1. ],\n",
       "       [ 1.5, -0.5]])"
      ]
     },
     "execution_count": 37,
     "metadata": {},
     "output_type": "execute_result"
    }
   ],
   "source": [
    "determinant = np.linalg.det(A)\n",
    "inverse = np.linalg.inv(A)\n",
    "\n",
    "determinant\n",
    "\n",
    "inverse"
   ]
  },
  {
   "cell_type": "markdown",
   "id": "e2c32053-16fe-4260-b82e-8fb23889bef3",
   "metadata": {},
   "source": [
    "# System of Linear Equations:"
   ]
  },
  {
   "cell_type": "code",
   "execution_count": 40,
   "id": "e87fdb32-3156-4eba-8b67-b107437471bf",
   "metadata": {},
   "outputs": [
    {
     "data": {
      "text/plain": [
       "array([-1.,  4.])"
      ]
     },
     "execution_count": 40,
     "metadata": {},
     "output_type": "execute_result"
    }
   ],
   "source": [
    "A = np.array([[3, 2], [1, 2]])\n",
    "b = np.array([5, 7])\n",
    "x = np.linalg.solve(A, b)\n",
    "A\n",
    "b\n",
    "x"
   ]
  },
  {
   "cell_type": "markdown",
   "id": "5af41c35-5df5-43aa-b8f6-8eddb5138181",
   "metadata": {},
   "source": [
    "# LU Decompositiom"
   ]
  },
  {
   "cell_type": "code",
   "execution_count": 43,
   "id": "0467f78f-83df-4174-aae8-d5babecb40cd",
   "metadata": {},
   "outputs": [
    {
     "data": {
      "text/plain": [
       "(array([[1., 0.],\n",
       "        [0., 1.]]),\n",
       " array([[1.        , 0.        ],\n",
       "        [0.33333333, 1.        ]]),\n",
       " array([[3.        , 2.        ],\n",
       "        [0.        , 1.33333333]]))"
      ]
     },
     "execution_count": 43,
     "metadata": {},
     "output_type": "execute_result"
    }
   ],
   "source": [
    "from scipy.linalg import lu\n",
    "P, L, U = lu(A)\n",
    "P,L,U"
   ]
  },
  {
   "cell_type": "markdown",
   "id": "75766605-ed8c-4706-95a5-8f50f71d6b52",
   "metadata": {},
   "source": [
    "# QR Decomposition"
   ]
  },
  {
   "cell_type": "code",
   "execution_count": 42,
   "id": "8d516e79-454c-44bf-87a2-ace8f4367a4f",
   "metadata": {},
   "outputs": [
    {
     "data": {
      "text/plain": [
       "(array([[-0.9486833 , -0.31622777],\n",
       "        [-0.31622777,  0.9486833 ]]),\n",
       " array([[-3.16227766, -2.52982213],\n",
       "        [ 0.        ,  1.26491106]]))"
      ]
     },
     "execution_count": 42,
     "metadata": {},
     "output_type": "execute_result"
    }
   ],
   "source": [
    "Q, R = np.linalg.qr(A)\n",
    "Q,R"
   ]
  },
  {
   "cell_type": "markdown",
   "id": "c7a4536f-fc85-4f5f-b765-3a8ff550af40",
   "metadata": {},
   "source": [
    "# Eigenvalues and Eigenvectors"
   ]
  },
  {
   "cell_type": "code",
   "execution_count": 44,
   "id": "bb1f9b4e-98bb-4e1f-b8ef-b0a0c317d4dc",
   "metadata": {},
   "outputs": [
    {
     "data": {
      "text/plain": [
       "array([[3., 2.],\n",
       "       [1., 2.]])"
      ]
     },
     "execution_count": 44,
     "metadata": {},
     "output_type": "execute_result"
    }
   ],
   "source": [
    "eigenvalues, eigenvectors = np.linalg.eig(A)\n",
    "reconstructed_matrix = np.dot(eigenvectors, np.dot(np.diag(eigenvalues), np.linalg.inv(eigenvectors)))\n",
    "\n",
    "eigenvalues, eigenvectors\n",
    "reconstructed_matrix"
   ]
  },
  {
   "cell_type": "markdown",
   "id": "5042398c-a226-46c9-bbf2-5e9d3d04ea35",
   "metadata": {},
   "source": [
    "# Vector operation"
   ]
  },
  {
   "cell_type": "code",
   "execution_count": 47,
   "id": "6b240b59-84fe-42b9-b1ea-2745140cafa7",
   "metadata": {},
   "outputs": [
    {
     "name": "stdout",
     "output_type": "stream",
     "text": [
      "addition\n",
      "\n"
     ]
    },
    {
     "data": {
      "text/plain": [
       "array([4, 6])"
      ]
     },
     "execution_count": 47,
     "metadata": {},
     "output_type": "execute_result"
    }
   ],
   "source": [
    "v1 = np.array([1, 2])\n",
    "v2 = np.array([3, 4])\n",
    "addition = v1 + v2\n",
    "\n",
    "print('addition\\n')\n",
    "addition\n"
   ]
  },
  {
   "cell_type": "code",
   "execution_count": 48,
   "id": "81fffc84-33b5-430b-9873-6447f15d5836",
   "metadata": {},
   "outputs": [
    {
     "name": "stdout",
     "output_type": "stream",
     "text": [
      "dot_product\n",
      "\n"
     ]
    },
    {
     "data": {
      "text/plain": [
       "11"
      ]
     },
     "execution_count": 48,
     "metadata": {},
     "output_type": "execute_result"
    }
   ],
   "source": [
    "dot_product = np.dot(v1, v2)\n",
    "\n",
    "print('dot_product\\n')\n",
    "dot_product\n"
   ]
  },
  {
   "cell_type": "code",
   "execution_count": 49,
   "id": "01acedf7-1e01-4ab5-9dc4-007d5f5ea675",
   "metadata": {},
   "outputs": [
    {
     "name": "stdout",
     "output_type": "stream",
     "text": [
      "cross_product\n",
      "\n"
     ]
    },
    {
     "data": {
      "text/plain": [
       "array([-3,  6, -3])"
      ]
     },
     "execution_count": 49,
     "metadata": {},
     "output_type": "execute_result"
    }
   ],
   "source": [
    "\n",
    "v1 = np.array([1, 2, 3])\n",
    "v2 = np.array([4, 5, 6])\n",
    "cross_product = np.cross(v1, v2)\n",
    "print('cross_product\\n')\n",
    "cross_product\n"
   ]
  },
  {
   "cell_type": "markdown",
   "id": "d5abbe39-55a3-4649-8687-854d5b3979bd",
   "metadata": {},
   "source": [
    "# normalize vetor "
   ]
  },
  {
   "cell_type": "code",
   "execution_count": 53,
   "id": "70da92b5-5446-4153-9c7e-1ed24e9d44fc",
   "metadata": {},
   "outputs": [
    {
     "data": {
      "text/plain": [
       "3.7416573867739413"
      ]
     },
     "execution_count": 53,
     "metadata": {},
     "output_type": "execute_result"
    }
   ],
   "source": [
    "norm = np.linalg.norm(v1)\n",
    "normalized_v1 = v1 / norm\n",
    "norm\n"
   ]
  },
  {
   "cell_type": "code",
   "execution_count": 54,
   "id": "55e74224-166c-45f9-a7e1-7e0c15e8d730",
   "metadata": {},
   "outputs": [
    {
     "data": {
      "text/plain": [
       "array([0.26726124, 0.53452248, 0.80178373])"
      ]
     },
     "execution_count": 54,
     "metadata": {},
     "output_type": "execute_result"
    }
   ],
   "source": [
    "normalized_v1"
   ]
  },
  {
   "cell_type": "markdown",
   "id": "75934ce5-f3a4-4e52-9ed9-77de7c70a677",
   "metadata": {},
   "source": [
    "# vector norm"
   ]
  },
  {
   "cell_type": "code",
   "execution_count": 55,
   "id": "34021412-ed8f-4dc9-9c05-b8a18103d377",
   "metadata": {},
   "outputs": [
    {
     "data": {
      "text/plain": [
       "3.7416573867739413"
      ]
     },
     "execution_count": 55,
     "metadata": {},
     "output_type": "execute_result"
    }
   ],
   "source": [
    "norm = np.linalg.norm(v1)\n",
    "norm\n"
   ]
  },
  {
   "cell_type": "markdown",
   "id": "1e51dca1-3192-45c3-83a4-0eb6c27e64b6",
   "metadata": {},
   "source": [
    "# Matrix Decomposition\n"
   ]
  },
  {
   "cell_type": "code",
   "execution_count": 56,
   "id": "ac36cf24-a6d0-487b-8c36-82d713884773",
   "metadata": {},
   "outputs": [
    {
     "data": {
      "text/plain": [
       "(array([[-0.86491009, -0.50192682],\n",
       "        [-0.50192682,  0.86491009]]),\n",
       " array([4.13064859, 0.96837093]),\n",
       " array([[-0.74967818, -0.66180256],\n",
       "        [-0.66180256,  0.74967818]]))"
      ]
     },
     "execution_count": 56,
     "metadata": {},
     "output_type": "execute_result"
    }
   ],
   "source": [
    "#SvD\n",
    "U, S, Vt = np.linalg.svd(A)\n",
    "U, S, Vt"
   ]
  },
  {
   "cell_type": "markdown",
   "id": "bf274e03-d1ec-4d71-a363-d01cd521cef2",
   "metadata": {},
   "source": [
    "# Calculus Tasks"
   ]
  },
  {
   "cell_type": "markdown",
   "id": "e05fe4bb-f516-4bde-8122-419dbbcb6fa5",
   "metadata": {},
   "source": [
    "# Numerical Differentiation"
   ]
  },
  {
   "cell_type": "code",
   "execution_count": 58,
   "id": "b1b75387-6de4-4744-a79d-fe54f852a98e",
   "metadata": {},
   "outputs": [
    {
     "name": "stdout",
     "output_type": "stream",
     "text": [
      "Forward Difference: 5.0000099999891745\n",
      "Backward Difference: 4.99998999998752\n",
      "Central Difference: 4.999999999988347\n"
     ]
    }
   ],
   "source": [
    "def f(x):\n",
    "    return x**2 + 3*x + 2\n",
    "\n",
    "\n",
    "def forward_diff(f, x, h=1e-5):\n",
    "    return (f(x + h) - f(x)) / h\n",
    "\n",
    "\n",
    "\n",
    "def backward_diff(f, x, h=1e-5):\n",
    "    return (f(x) - f(x - h)) / h\n",
    "\n",
    "def central_diff(f, x, h=1e-5):\n",
    "    return (f(x + h) - f(x - h)) / (2 * h)\n",
    "\n",
    "\n",
    "x = 1.0\n",
    "print(\"Forward Difference:\", forward_diff(f, x))\n",
    "print(\"Backward Difference:\", backward_diff(f, x))\n",
    "print(\"Central Difference:\", central_diff(f, x))"
   ]
  },
  {
   "cell_type": "markdown",
   "id": "9b5e1587-1b94-4116-ab1d-1fe12440cd22",
   "metadata": {},
   "source": [
    "# Numerical Integration:"
   ]
  },
  {
   "cell_type": "code",
   "execution_count": 61,
   "id": "bad23f07-5826-4f5f-8958-4b6429adacb2",
   "metadata": {},
   "outputs": [
    {
     "name": "stdout",
     "output_type": "stream",
     "text": [
      "Trapezoidal Rule: 1.999998351770852\n",
      "Simpson's Rule: 2.0000000000051616\n"
     ]
    },
    {
     "name": "stderr",
     "output_type": "stream",
     "text": [
      "C:\\Users\\PMYLS\\AppData\\Local\\Temp\\ipykernel_12544\\2231965662.py:14: DeprecationWarning: 'scipy.integrate.simps' is deprecated in favour of 'scipy.integrate.simpson' and will be removed in SciPy 1.14.0\n",
      "  return simps(y, x)\n"
     ]
    }
   ],
   "source": [
    "def g(x):\n",
    "    return np.sin(x)\n",
    "#trapezoidal_rule\n",
    "def trapezoidal_rule(f, a, b, n=1000):\n",
    "    x = np.linspace(a, b, n)\n",
    "    y = f(x)\n",
    "    return np.trapz(y, x)\n",
    "\n",
    "#simpsons_rule\n",
    "from scipy.integrate import simps\n",
    "def simpsons_rule(f, a, b, n=1000):\n",
    "    x = np.linspace(a, b, n)\n",
    "    y = f(x)\n",
    "    return simps(y, x)\n",
    "\n",
    "\n",
    "a, b = 0, np.pi\n",
    "print(\"Trapezoidal Rule:\", trapezoidal_rule(g, a, b))\n",
    "print(\"Simpson's Rule:\", simpsons_rule(g, a, b))\n"
   ]
  },
  {
   "cell_type": "markdown",
   "id": "04f024b9-5fb0-4aa2-b1c7-018efb30ecdc",
   "metadata": {},
   "source": [
    "# Partial Derivatives:"
   ]
  },
  {
   "cell_type": "code",
   "execution_count": 25,
   "id": "60c39077-bdac-4632-a9df-17b1b04d3814",
   "metadata": {},
   "outputs": [
    {
     "data": {
      "text/latex": [
       "$\\displaystyle 2 y$"
      ],
      "text/plain": [
       "2*y"
      ]
     },
     "execution_count": 25,
     "metadata": {},
     "output_type": "execute_result"
    }
   ],
   "source": [
    "from sympy import symbols, diff\n",
    "\n",
    "x, y = symbols('x y')\n",
    "f = x**2 + y**2\n",
    "partial_x = diff(f, x)\n",
    "partial_y = diff(f, y)\n",
    "partial_x\n",
    "partial_y"
   ]
  },
  {
   "cell_type": "markdown",
   "id": "5ef46794-cfd2-4208-b4a3-93b847b97000",
   "metadata": {},
   "source": [
    " # Optimization"
   ]
  },
  {
   "cell_type": "code",
   "execution_count": 59,
   "id": "2e146aca-b3b2-43cd-b2ee-1f3511cc3b31",
   "metadata": {},
   "outputs": [
    {
     "name": "stdout",
     "output_type": "stream",
     "text": [
      "Optimization Result:\n",
      "  Success: True\n",
      "  Optimal Value: 0.5\n",
      "  Optimal Point: [0.5 0.5]\n"
     ]
    }
   ],
   "source": [
    "from scipy.optimize import minimize\n",
    "\n",
    "def objective(x):\n",
    "    return x[0]**2 + x[1]**2\n",
    "\n",
    "def constraint(x):\n",
    "    return x[0] + x[1] - 1\n",
    "\n",
    "constraints = {'type': 'eq', 'fun': constraint}\n",
    "result = minimize(objective, [0, 0], constraints=constraints)\n",
    "\n",
    "print(\"Optimization Result:\")\n",
    "print(\"  Success:\", result.success)\n",
    "print(\"  Optimal Value:\", result.fun)\n",
    "print(\"  Optimal Point:\", result.x)\n"
   ]
  },
  {
   "cell_type": "code",
   "execution_count": null,
   "id": "2e1c29b5-9244-4955-860d-4a1a3b520430",
   "metadata": {},
   "outputs": [],
   "source": []
  }
 ],
 "metadata": {
  "kernelspec": {
   "display_name": "Python 3 (ipykernel)",
   "language": "python",
   "name": "python3"
  },
  "language_info": {
   "codemirror_mode": {
    "name": "ipython",
    "version": 3
   },
   "file_extension": ".py",
   "mimetype": "text/x-python",
   "name": "python",
   "nbconvert_exporter": "python",
   "pygments_lexer": "ipython3",
   "version": "3.12.2"
  }
 },
 "nbformat": 4,
 "nbformat_minor": 5
}
