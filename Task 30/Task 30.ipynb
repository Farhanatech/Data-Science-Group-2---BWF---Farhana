{
 "cells": [
  {
   "cell_type": "code",
   "execution_count": 49,
   "id": "aff21f17-7e3d-4d80-884e-4f29ce0b3dd1",
   "metadata": {},
   "outputs": [],
   "source": [
    "import numpy as np\n",
    "import pandas as pd\n",
    "from sklearn.datasets import load_iris\n",
    "from sklearn.impute import SimpleImputer\n",
    "from sklearn.preprocessing import StandardScaler\n",
    "from sklearn.model_selection import train_test_split\n",
    "from sklearn.linear_model import LogisticRegression\n",
    "from sklearn.metrics import accuracy_score\n",
    "from sklearn.ensemble import RandomForestClassifier\n",
    "from sklearn.model_selection import GridSearchCV, RandomizedSearchCV"
   ]
  },
  {
   "cell_type": "code",
   "execution_count": null,
   "id": "885be2e8-8bdc-4ee2-bf0d-030793cc0509",
   "metadata": {},
   "outputs": [],
   "source": []
  },
  {
   "cell_type": "code",
   "execution_count": 50,
   "id": "2bbc1769-dcf0-4312-a19a-1000b9b6f9a1",
   "metadata": {},
   "outputs": [],
   "source": [
    "basket = ['apple', 'orange', 'grape', 'strawberry']"
   ]
  },
  {
   "cell_type": "code",
   "execution_count": 51,
   "id": "e50731da-6b33-4917-9091-d39f656e1bbd",
   "metadata": {},
   "outputs": [
    {
     "name": "stdout",
     "output_type": "stream",
     "text": [
      "[0 2 1 3]\n"
     ]
    }
   ],
   "source": [
    "encoder = LabelEncoder()\n",
    "labels = encoder.fit_transform(basket)\n",
    "print(labels)"
   ]
  },
  {
   "cell_type": "code",
   "execution_count": 52,
   "id": "976387f4-a381-44fb-ae2e-6fd16c94d8c8",
   "metadata": {},
   "outputs": [
    {
     "data": {
      "text/plain": [
       "array(['apple', 'orange', 'grape', 'strawberry'], dtype='<U10')"
      ]
     },
     "execution_count": 52,
     "metadata": {},
     "output_type": "execute_result"
    }
   ],
   "source": [
    "encoder=LabelEncoder()\n",
    "encoder.fit(basket)\n",
    "labels=encoder.fit_transform(basket)\n",
    "original_labels = encoder.inverse_transform(labels)\n",
    "original_labels"
   ]
  },
  {
   "cell_type": "code",
   "execution_count": 53,
   "id": "3d9ab2d8-01df-42ab-81b0-9bd51c492472",
   "metadata": {},
   "outputs": [
    {
     "data": {
      "text/plain": [
       "array([[1., 0., 0., 0.],\n",
       "       [0., 0., 1., 0.],\n",
       "       [0., 1., 0., 0.],\n",
       "       [0., 0., 0., 1.]])"
      ]
     },
     "execution_count": 53,
     "metadata": {},
     "output_type": "execute_result"
    }
   ],
   "source": [
    "encoder = LabelEncoder()\n",
    "labels = encoder.fit_transform(basket).reshape(-1, 1)\n",
    "onehot_encoder = OneHotEncoder()\n",
    "onehot_labels = onehot_encoder.fit_transform(labels)\n",
    "onehot_labels.toarray()"
   ]
  },
  {
   "cell_type": "code",
   "execution_count": 54,
   "id": "3716dc2a-ff71-4003-b353-dfe4d4f1f336",
   "metadata": {},
   "outputs": [],
   "source": [
    "iris = load_iris()\n",
    "iris_df = pd.DataFrame(iris.data, columns=iris.feature_names)\n",
    "target = iris.target"
   ]
  },
  {
   "cell_type": "code",
   "execution_count": 55,
   "id": "c0309016-96dc-460a-81dd-03aca88bf077",
   "metadata": {},
   "outputs": [],
   "source": [
    "imputer = SimpleImputer(strategy='mean')\n",
    "data_imputed = imputer.fit_transform(iris_df)\n"
   ]
  },
  {
   "cell_type": "code",
   "execution_count": 56,
   "id": "104e1ba5-f855-4085-9cef-eae3e40681b1",
   "metadata": {},
   "outputs": [],
   "source": [
    "scaler = StandardScaler()\n",
    "data_scaled = scaler.fit_transform(data_imputed)\n",
    "data_scaled = pd.DataFrame(data_scaled, columns=iris.feature_names)\n"
   ]
  },
  {
   "cell_type": "code",
   "execution_count": 57,
   "id": "5664d57c-e4f9-4de8-a5bb-fa61bf834d01",
   "metadata": {},
   "outputs": [],
   "source": [
    "X_train, X_test, y_train, y_test = train_test_split(data_scaled, target, test_size=0.2, random_state=42)\n"
   ]
  },
  {
   "cell_type": "code",
   "execution_count": 58,
   "id": "7732cd0e-901c-454e-a707-a1225d9eac3f",
   "metadata": {},
   "outputs": [
    {
     "name": "stdout",
     "output_type": "stream",
     "text": [
      "Logistic Regression Accuracy: 1.00\n"
     ]
    }
   ],
   "source": [
    "log_reg = LogisticRegression(random_state=42)\n",
    "log_reg.fit(X_train, y_train)\n",
    "y_pred_log_reg = log_reg.predict(X_test)\n",
    "accuracy_log_reg = accuracy_score(y_test, y_pred_log_reg)\n",
    "print(f'Logistic Regression Accuracy: {accuracy_log_reg:.2f}')\n"
   ]
  },
  {
   "cell_type": "code",
   "execution_count": 59,
   "id": "9226415b-cade-4947-9df0-e46534cad3c3",
   "metadata": {},
   "outputs": [
    {
     "name": "stdout",
     "output_type": "stream",
     "text": [
      "Random Forest Accuracy: 1.00\n"
     ]
    }
   ],
   "source": [
    "rf = RandomForestClassifier(random_state=42)\n",
    "rf.fit(X_train, y_train)\n",
    "y_pred_rf = rf.predict(X_test)\n",
    "accuracy_rf = accuracy_score(y_test, y_pred_rf)\n",
    "print(f'Random Forest Accuracy: {accuracy_rf:.2f}')\n",
    "\n"
   ]
  },
  {
   "cell_type": "code",
   "execution_count": 60,
   "id": "401b9869-720d-4246-85ec-73f0045518c0",
   "metadata": {},
   "outputs": [
    {
     "name": "stdout",
     "output_type": "stream",
     "text": [
      "best Logistic Regression Accuracy (Grid Search): 1.00\n"
     ]
    }
   ],
   "source": [
    "param_grid = {'C': [0.1, 1,10]}\n",
    "grid_search = GridSearchCV(LogisticRegression(random_state=42), param_grid,cv=5)\n",
    "grid_search.fit(X_train, y_train)\n",
    "best_log_reg = grid_search.best_estimator_\n",
    "y_pred_best_log_reg = best_log_reg.predict(X_test)\n",
    "accuracy_best_log_reg = accuracy_score(y_test, y_pred_best_log_reg)\n",
    "print(f'best Logistic Regression Accuracy (Grid Search): {accuracy_best_log_reg:.2f}')\n"
   ]
  },
  {
   "cell_type": "code",
   "execution_count": 62,
   "id": "93912cae-5fa3-434f-b914-c36e7aa95d07",
   "metadata": {},
   "outputs": [
    {
     "name": "stdout",
     "output_type": "stream",
     "text": [
      "best random Forest Accuracy (Random Search): 1.00\n"
     ]
    }
   ],
   "source": [
    "param_dist = {'n_estimators': [10, 50,100], 'max_depth': [None, 10, 20, 30]}\n",
    "random_search = RandomizedSearchCV(RandomForestClassifier(random_state=42), param_distributions=param_dist, n_iter=10,random_state=42)\n",
    "random_search.fit(X_train, y_train)\n",
    "best_rf = random_search.best_estimator_\n",
    "y_pred_best_rf = best_rf.predict(X_test)\n",
    "accuracy_best_rf = accuracy_score(y_test, y_pred_best_rf)\n",
    "print(f'best random Forest Accuracy (Random Search): {accuracy_best_rf:.2f}')\n"
   ]
  },
  {
   "cell_type": "code",
   "execution_count": null,
   "id": "a13ccdb9-d75d-4bf8-ac20-278506bd3e02",
   "metadata": {},
   "outputs": [],
   "source": []
  }
 ],
 "metadata": {
  "kernelspec": {
   "display_name": "Python 3 (ipykernel)",
   "language": "python",
   "name": "python3"
  },
  "language_info": {
   "codemirror_mode": {
    "name": "ipython",
    "version": 3
   },
   "file_extension": ".py",
   "mimetype": "text/x-python",
   "name": "python",
   "nbconvert_exporter": "python",
   "pygments_lexer": "ipython3",
   "version": "3.12.2"
  }
 },
 "nbformat": 4,
 "nbformat_minor": 5
}
