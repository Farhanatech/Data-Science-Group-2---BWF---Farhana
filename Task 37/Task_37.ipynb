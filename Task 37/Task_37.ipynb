{
  "nbformat": 4,
  "nbformat_minor": 0,
  "metadata": {
    "colab": {
      "provenance": []
    },
    "kernelspec": {
      "name": "python3",
      "display_name": "Python 3"
    },
    "language_info": {
      "name": "python"
    }
  },
  "cells": [
    {
      "cell_type": "code",
      "execution_count": 1,
      "metadata": {
        "id": "nMYFKG9rXDl5"
      },
      "outputs": [],
      "source": [
        "import nltk\n",
        "import string\n",
        "import re\n",
        "from nltk.corpus import stopwords\n",
        "from nltk.tokenize import word_tokenize\n",
        "from nltk.stem import PorterStemmer, WordNetLemmatizer\n"
      ]
    },
    {
      "cell_type": "code",
      "source": [
        "texts = [\n",
        "    \"Planting trees provides oxygen and improves air quality.\",\n",
        "    \"Gardening promotes physical activity and mental well-being.\",\n",
        "    \"Plants can reduce stress and enhance relaxation.\",\n",
        "    \"Growing your own vegetables ensures fresh and healthy food.\"\n",
        "]"
      ],
      "metadata": {
        "id": "enI5QJyBak6-"
      },
      "execution_count": 2,
      "outputs": []
    },
    {
      "cell_type": "code",
      "source": [
        "nltk.download('punkt')\n",
        "nltk.download('stopwords')\n",
        "nltk.download('wordnet')"
      ],
      "metadata": {
        "colab": {
          "base_uri": "https://localhost:8080/"
        },
        "id": "IRkFMdLkamIw",
        "outputId": "7cd0657d-c416-414d-f15d-f5c3f29321e3"
      },
      "execution_count": 3,
      "outputs": [
        {
          "output_type": "stream",
          "name": "stderr",
          "text": [
            "[nltk_data] Downloading package punkt to /root/nltk_data...\n",
            "[nltk_data]   Unzipping tokenizers/punkt.zip.\n",
            "[nltk_data] Downloading package stopwords to /root/nltk_data...\n",
            "[nltk_data]   Unzipping corpora/stopwords.zip.\n",
            "[nltk_data] Downloading package wordnet to /root/nltk_data...\n"
          ]
        },
        {
          "output_type": "execute_result",
          "data": {
            "text/plain": [
              "True"
            ]
          },
          "metadata": {},
          "execution_count": 3
        }
      ]
    },
    {
      "cell_type": "code",
      "source": [
        "stop_words = set(stopwords.words('english'))\n",
        "stemmer = PorterStemmer()\n",
        "lemmatizer = WordNetLemmatizer()"
      ],
      "metadata": {
        "id": "TGLXL8Ktatq1"
      },
      "execution_count": 4,
      "outputs": []
    },
    {
      "cell_type": "code",
      "source": [
        "def preprocess_text(text):\n",
        "     text = text.lower()\n",
        "     text = text.translate(str.maketrans('', '', string.punctuation))\n",
        "     words = word_tokenize(text)\n",
        "     words = [word for word in words if word not in stop_words]\n",
        "     stemmed_words = [stemmer.stem(word) for word in words]\n",
        "     lemmatized_words = [lemmatizer.lemmatize(word) for word in words]\n",
        "     text = re.sub(r'\\d+', '', text)\n",
        "     text = ' '.join(text.split())\n",
        "     return {\n",
        "        \"original\": text,\n",
        "        \"stemmed\": ' '.join(stemmed_words),\n",
        "        \"lemmatized\": ' '.join(lemmatized_words)\n",
        "    }\n",
        "\n"
      ],
      "metadata": {
        "id": "AfKljLC6awsE"
      },
      "execution_count": 5,
      "outputs": []
    },
    {
      "cell_type": "code",
      "source": [
        "preprocessed_texts = [preprocess_text(text) for text in texts]"
      ],
      "metadata": {
        "id": "7rkMT8Z1a5fZ"
      },
      "execution_count": 6,
      "outputs": []
    },
    {
      "cell_type": "code",
      "source": [
        "for i, processed in enumerate(preprocessed_texts):\n",
        "    print(f\"Original: {texts[i]}\")\n",
        "    print(f\"Stemmed: {processed['stemmed']}\")\n",
        "    print(f\"Lemmatized: {processed['lemmatized']}\")\n",
        "    print(\"\\n\")"
      ],
      "metadata": {
        "colab": {
          "base_uri": "https://localhost:8080/"
        },
        "id": "TVaFpYtra-ZT",
        "outputId": "4e5de162-bac4-49e3-fe59-255e560051e0"
      },
      "execution_count": 8,
      "outputs": [
        {
          "output_type": "stream",
          "name": "stdout",
          "text": [
            "Original: Planting trees provides oxygen and improves air quality.\n",
            "Stemmed: plant tree provid oxygen improv air qualiti\n",
            "Lemmatized: planting tree provides oxygen improves air quality\n",
            "\n",
            "\n",
            "Original: Gardening promotes physical activity and mental well-being.\n",
            "Stemmed: garden promot physic activ mental wellb\n",
            "Lemmatized: gardening promotes physical activity mental wellbeing\n",
            "\n",
            "\n",
            "Original: Plants can reduce stress and enhance relaxation.\n",
            "Stemmed: plant reduc stress enhanc relax\n",
            "Lemmatized: plant reduce stress enhance relaxation\n",
            "\n",
            "\n",
            "Original: Growing your own vegetables ensures fresh and healthy food.\n",
            "Stemmed: grow veget ensur fresh healthi food\n",
            "Lemmatized: growing vegetable ensures fresh healthy food\n",
            "\n",
            "\n"
          ]
        }
      ]
    }
  ]
}