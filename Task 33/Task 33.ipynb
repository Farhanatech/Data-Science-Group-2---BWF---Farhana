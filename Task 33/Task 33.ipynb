{
 "cells": [
  {
   "cell_type": "code",
   "execution_count": 27,
   "id": "03eb3e90-a30d-47ca-b2a8-89bc452dd155",
   "metadata": {},
   "outputs": [],
   "source": [
    "import numpy as np"
   ]
  },
  {
   "cell_type": "markdown",
   "id": "c1082814-d000-447c-bd9e-5721197341b9",
   "metadata": {},
   "source": [
    "  # Initialize the Network"
   ]
  },
  {
   "cell_type": "code",
   "execution_count": 28,
   "id": "59cbd7fe-b7f3-4e34-a082-4b8eb7013a92",
   "metadata": {},
   "outputs": [],
   "source": [
    "input_size = 1 \n",
    "hidden_size = 10  \n",
    "output_size = 1"
   ]
  },
  {
   "cell_type": "markdown",
   "id": "4218bdfc-11da-40a6-9d22-ea6906a5a622",
   "metadata": {},
   "source": [
    "# Initialize weights and biases"
   ]
  },
  {
   "cell_type": "code",
   "execution_count": 29,
   "id": "8d761c58-d627-44c4-996c-c9807a0adbd5",
   "metadata": {},
   "outputs": [],
   "source": [
    "np.random.seed(42)\n",
    "W1 = np.random.randn(input_size, hidden_size) * 0.01  \n",
    "b1 = np.zeros((1, hidden_size))\n",
    "W2 = np.random.randn(hidden_size, output_size) * 0.01 \n",
    "b2 = np.zeros((1, output_size))"
   ]
  },
  {
   "cell_type": "markdown",
   "id": "1e171438-2008-44b0-92c9-ad5d70d51a25",
   "metadata": {},
   "source": [
    "# Forward Propagation"
   ]
  },
  {
   "cell_type": "code",
   "execution_count": 30,
   "id": "02ebbcf3-ea6d-4008-b0a6-1b99aabf67e5",
   "metadata": {},
   "outputs": [],
   "source": [
    "def relu(Z):\n",
    "    return np.maximum(0, Z)"
   ]
  },
  {
   "cell_type": "code",
   "execution_count": 31,
   "id": "af1352fa-aed6-43fb-8208-03539e45fc5f",
   "metadata": {},
   "outputs": [],
   "source": [
    "def forward(X):\n",
    "    Z1 = np.dot(X, W1) + b1\n",
    "    A1 = relu(Z1)\n",
    "    Z2 = np.dot(A1, W2) + b2\n",
    "    return Z2, A1"
   ]
  },
  {
   "cell_type": "markdown",
   "id": "7224f6e2-0953-4403-b78a-7096453f1b7b",
   "metadata": {},
   "source": [
    "# Loss Calculation (MSE)"
   ]
  },
  {
   "cell_type": "code",
   "execution_count": 32,
   "id": "05c506e2-7664-4087-afc5-e9b98ecc6d58",
   "metadata": {},
   "outputs": [],
   "source": [
    "def mse_loss(Y, Y_pred):\n",
    "    return np.mean((Y - Y_pred) ** 2)"
   ]
  },
  {
   "cell_type": "code",
   "execution_count": 33,
   "id": "1a700102-ffaa-4482-a78d-5645706f3956",
   "metadata": {},
   "outputs": [],
   "source": [
    "def gradient_descent(params, grads, learning_rate):\n",
    "    for param, grad in zip(params, grads):\n",
    "        param -= learning_rate * grad"
   ]
  },
  {
   "cell_type": "markdown",
   "id": "b323e997-05b8-45dd-8b57-6a0332e2a633",
   "metadata": {},
   "source": [
    "# Backward Propagation"
   ]
  },
  {
   "cell_type": "code",
   "execution_count": 34,
   "id": "3e5fbb42-4358-4e0f-86ba-e51ccfc20b9a",
   "metadata": {},
   "outputs": [],
   "source": [
    "def backward(X, Y, Y_pred, A1, learning_rate=0.01):\n",
    "    global W1, b1, W2, b2\n",
    "    \n",
    "    m = X.shape[0] \n",
    "\n",
    "    dZ2 = Y_pred - Y  \n",
    "    dW2 = np.dot(A1.T, dZ2) / m  \n",
    "    db2 = np.sum(dZ2, axis=0, keepdims=True) / m\n",
    "    \n",
    "    dA1 = np.dot(dZ2, W2.T)\n",
    "    dZ1 = dA1 * (A1 > 0)  \n",
    "    dW1 = np.dot(X.T, dZ1) / m  \n",
    "    db1 = np.sum(dZ1, axis=0, keepdims=True) / m \n",
    "    params = [W1, b1, W2, b2]\n",
    "    grads = [dW1, db1, dW2, db2]\n",
    "    \n",
    "    gradient_descent(params, grads, learning_rate)\n",
    "\n",
    "\n",
    "    W1 -= learning_rate * dW1\n",
    "    b1 -= learning_rate * db1\n",
    "    W2 -= learning_rate * dW2\n",
    "    b2 -= learning_rate * db2\n"
   ]
  },
  {
   "cell_type": "markdown",
   "id": "2714d71d-3100-48a7-8152-1eed1e708419",
   "metadata": {},
   "source": [
    "#  Training the Network"
   ]
  },
  {
   "cell_type": "code",
   "execution_count": 35,
   "id": "7bd922dc-3483-408e-a32b-4fa9410e7c21",
   "metadata": {},
   "outputs": [],
   "source": [
    "def train(X, Y, epochs=1000, learning_rate=0.01):\n",
    "    for i in range(epochs):\n",
    "        Y_pred, A1 = forward(X)  \n",
    "        loss = mse_loss(Y, Y_pred)  \n",
    "        backward(X, Y, Y_pred, A1, learning_rate) \n",
    "        \n",
    "        if i % 100 == 0:\n",
    "            print(f\"Epoch {i}: Loss = {loss:.4f}\")"
   ]
  },
  {
   "cell_type": "markdown",
   "id": "d0b80c22-7475-452a-96ec-4bd89dedae58",
   "metadata": {},
   "source": [
    "# Sample Data"
   ]
  },
  {
   "cell_type": "code",
   "execution_count": 36,
   "id": "52105d14-2e57-49c4-b244-70442d8306dd",
   "metadata": {},
   "outputs": [],
   "source": [
    "X = np.array([[1], [2], [3], [4], [5]])  \n",
    "Y = np.array([[2], [4], [6], [8], [10]])"
   ]
  },
  {
   "cell_type": "markdown",
   "id": "fcc0a089-9027-4298-9681-53710c4f10a2",
   "metadata": {},
   "source": [
    "# Train"
   ]
  },
  {
   "cell_type": "code",
   "execution_count": 37,
   "id": "a8ea89ca-8821-4a35-8a7c-9709fd118a61",
   "metadata": {},
   "outputs": [
    {
     "name": "stdout",
     "output_type": "stream",
     "text": [
      "Epoch 0: Loss = 44.0225\n",
      "Epoch 100: Loss = 0.1467\n",
      "Epoch 200: Loss = 0.0163\n",
      "Epoch 300: Loss = 0.0014\n",
      "Epoch 400: Loss = 0.0001\n",
      "Epoch 500: Loss = 0.0000\n",
      "Epoch 600: Loss = 0.0000\n",
      "Epoch 700: Loss = 0.0000\n",
      "Epoch 800: Loss = 0.0000\n",
      "Epoch 900: Loss = 0.0000\n"
     ]
    }
   ],
   "source": [
    "train(X,Y, epochs= 1000, learning_rate = 0.01)"
   ]
  },
  {
   "cell_type": "markdown",
   "id": "4527f21a-e3ac-4481-835b-5f8629218773",
   "metadata": {},
   "source": [
    "# Test"
   ]
  },
  {
   "cell_type": "code",
   "execution_count": 38,
   "id": "fd6cfaf2-e533-4f71-a049-99a97b13fcc5",
   "metadata": {},
   "outputs": [
    {
     "name": "stdout",
     "output_type": "stream",
     "text": [
      "Predicted: [[2.00000796]\n",
      " [4.00000496]\n",
      " [6.00000197]\n",
      " [7.99999897]\n",
      " [9.99999598]]\n"
     ]
    }
   ],
   "source": [
    "Y_pred, _ = forward(X)\n",
    "print(\"Predicted:\", Y_pred)"
   ]
  },
  {
   "cell_type": "markdown",
   "id": "e4b8f9b2-4572-44f2-bb54-505d6b0452cc",
   "metadata": {},
   "source": [
    "# Loss Functions"
   ]
  },
  {
   "cell_type": "markdown",
   "id": "ea436306-b57e-401c-8fbf-969b78e56d18",
   "metadata": {},
   "source": [
    "## MAE"
   ]
  },
  {
   "cell_type": "code",
   "execution_count": 39,
   "id": "c3bbcf8f-6cd8-4f6c-974f-c37262216f9e",
   "metadata": {},
   "outputs": [
    {
     "data": {
      "text/plain": [
       "3.986958279522668e-06"
      ]
     },
     "metadata": {},
     "output_type": "display_data"
    }
   ],
   "source": [
    "def mae_loss(Y, Y_pred):\n",
    "    return np.mean(np.abs(Y - Y_pred))\n",
    "MAE = mae_loss(Y,Y_pred)\n",
    "display(MAE)"
   ]
  },
  {
   "cell_type": "markdown",
   "id": "32cb853f-0c30-4846-8007-e2e17bad44b9",
   "metadata": {},
   "source": [
    "## Cross-Entropy Loss"
   ]
  },
  {
   "cell_type": "code",
   "execution_count": 40,
   "id": "c19d1c53-7aca-44b2-8c2b-2f50c49cd5d9",
   "metadata": {},
   "outputs": [
    {
     "data": {
      "text/plain": [
       "array([[ 2],\n",
       "       [ 4],\n",
       "       [ 6],\n",
       "       [ 8],\n",
       "       [10]])"
      ]
     },
     "metadata": {},
     "output_type": "display_data"
    },
    {
     "data": {
      "text/plain": [
       "array([[2.00000796],\n",
       "       [4.00000496],\n",
       "       [6.00000197],\n",
       "       [7.99999897],\n",
       "       [9.99999598]])"
      ]
     },
     "metadata": {},
     "output_type": "display_data"
    }
   ],
   "source": [
    "def cross_entropy_loss(Y, Y_pred):\n",
    "    epsilon = 1e-12  \n",
    "    Y_pred = np.clip(Y_pred, epsilon, 1. - epsilon)  \n",
    "    return -np.mean(Y * np.log(Y_pred) + (1 - Y) * np.log(1 - Y_pred))\n",
    "CEL = cross_entropy_loss(Y, Y_pred)\n",
    "display(Y,Y_pred)"
   ]
  },
  {
   "cell_type": "markdown",
   "id": "aff4cde4-e7af-4287-b0f7-bf92c0753b31",
   "metadata": {},
   "source": [
    "## Hinge Loss"
   ]
  },
  {
   "cell_type": "code",
   "execution_count": 41,
   "id": "e7c7668c-4280-4fd6-ba79-f2a4706187bb",
   "metadata": {},
   "outputs": [
    {
     "data": {
      "text/plain": [
       "0.0"
      ]
     },
     "metadata": {},
     "output_type": "display_data"
    }
   ],
   "source": [
    "def hinge_loss(Y, Y_pred):\n",
    "    return np.mean(np.maximum(0, 1 - Y * Y_pred))\n",
    "HL = hinge_loss(Y, Y_pred)\n",
    "display(HL)"
   ]
  },
  {
   "cell_type": "code",
   "execution_count": null,
   "id": "936d0ba6-d637-470b-9127-65b3ac628573",
   "metadata": {},
   "outputs": [],
   "source": []
  },
  {
   "cell_type": "code",
   "execution_count": null,
   "id": "171a8b28-33ca-481b-a8d4-3dae6f35c70f",
   "metadata": {},
   "outputs": [],
   "source": []
  }
 ],
 "metadata": {
  "kernelspec": {
   "display_name": "Python 3 (ipykernel)",
   "language": "python",
   "name": "python3"
  },
  "language_info": {
   "codemirror_mode": {
    "name": "ipython",
    "version": 3
   },
   "file_extension": ".py",
   "mimetype": "text/x-python",
   "name": "python",
   "nbconvert_exporter": "python",
   "pygments_lexer": "ipython3",
   "version": "3.12.2"
  }
 },
 "nbformat": 4,
 "nbformat_minor": 5
}
