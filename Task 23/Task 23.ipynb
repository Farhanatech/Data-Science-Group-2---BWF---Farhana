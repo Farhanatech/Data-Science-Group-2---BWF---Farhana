{
 "cells": [
  {
   "cell_type": "code",
   "execution_count": 64,
   "id": "ce29efb6-2061-44f8-9a88-8f2aa722bd8c",
   "metadata": {},
   "outputs": [],
   "source": [
    "import numpy as np\n",
    "import pandas as pd\n",
    "from sklearn.model_selection import train_test_split\n",
    "from sklearn.preprocessing import StandardScaler, OneHotEncoder\n",
    "from sklearn.compose import ColumnTransformer\n",
    "from sklearn.pipeline import Pipeline\n",
    "from sklearn.metrics import mean_squared_error, r2_score\n",
    "from sklearn.preprocessing import StandardScaler, LabelEncoder"
   ]
  },
  {
   "cell_type": "code",
   "execution_count": 65,
   "id": "4c90e3fe-597a-43c6-b9a3-3c7aed1eba0f",
   "metadata": {},
   "outputs": [
    {
     "data": {
      "text/html": [
       "<div>\n",
       "<style scoped>\n",
       "    .dataframe tbody tr th:only-of-type {\n",
       "        vertical-align: middle;\n",
       "    }\n",
       "\n",
       "    .dataframe tbody tr th {\n",
       "        vertical-align: top;\n",
       "    }\n",
       "\n",
       "    .dataframe thead th {\n",
       "        text-align: right;\n",
       "    }\n",
       "</style>\n",
       "<table border=\"1\" class=\"dataframe\">\n",
       "  <thead>\n",
       "    <tr style=\"text-align: right;\">\n",
       "      <th></th>\n",
       "      <th>id</th>\n",
       "      <th>first_name</th>\n",
       "      <th>last_name</th>\n",
       "      <th>email</th>\n",
       "      <th>gender</th>\n",
       "      <th>part_time_job</th>\n",
       "      <th>absence_days</th>\n",
       "      <th>extracurricular_activities</th>\n",
       "      <th>weekly_self_study_hours</th>\n",
       "      <th>career_aspiration</th>\n",
       "      <th>math_score</th>\n",
       "      <th>history_score</th>\n",
       "      <th>physics_score</th>\n",
       "      <th>chemistry_score</th>\n",
       "      <th>biology_score</th>\n",
       "      <th>english_score</th>\n",
       "      <th>geography_score</th>\n",
       "    </tr>\n",
       "  </thead>\n",
       "  <tbody>\n",
       "    <tr>\n",
       "      <th>0</th>\n",
       "      <td>1</td>\n",
       "      <td>Paul</td>\n",
       "      <td>Casey</td>\n",
       "      <td>paul.casey.1@gslingacademy.com</td>\n",
       "      <td>male</td>\n",
       "      <td>False</td>\n",
       "      <td>3</td>\n",
       "      <td>False</td>\n",
       "      <td>27</td>\n",
       "      <td>Lawyer</td>\n",
       "      <td>73</td>\n",
       "      <td>81</td>\n",
       "      <td>93</td>\n",
       "      <td>97</td>\n",
       "      <td>63</td>\n",
       "      <td>80</td>\n",
       "      <td>87</td>\n",
       "    </tr>\n",
       "    <tr>\n",
       "      <th>1</th>\n",
       "      <td>2</td>\n",
       "      <td>Danielle</td>\n",
       "      <td>Sandoval</td>\n",
       "      <td>danielle.sandoval.2@gslingacademy.com</td>\n",
       "      <td>female</td>\n",
       "      <td>False</td>\n",
       "      <td>2</td>\n",
       "      <td>False</td>\n",
       "      <td>47</td>\n",
       "      <td>Doctor</td>\n",
       "      <td>90</td>\n",
       "      <td>86</td>\n",
       "      <td>96</td>\n",
       "      <td>100</td>\n",
       "      <td>90</td>\n",
       "      <td>88</td>\n",
       "      <td>90</td>\n",
       "    </tr>\n",
       "    <tr>\n",
       "      <th>2</th>\n",
       "      <td>3</td>\n",
       "      <td>Tina</td>\n",
       "      <td>Andrews</td>\n",
       "      <td>tina.andrews.3@gslingacademy.com</td>\n",
       "      <td>female</td>\n",
       "      <td>False</td>\n",
       "      <td>9</td>\n",
       "      <td>True</td>\n",
       "      <td>13</td>\n",
       "      <td>Government Officer</td>\n",
       "      <td>81</td>\n",
       "      <td>97</td>\n",
       "      <td>95</td>\n",
       "      <td>96</td>\n",
       "      <td>65</td>\n",
       "      <td>77</td>\n",
       "      <td>94</td>\n",
       "    </tr>\n",
       "    <tr>\n",
       "      <th>3</th>\n",
       "      <td>4</td>\n",
       "      <td>Tara</td>\n",
       "      <td>Clark</td>\n",
       "      <td>tara.clark.4@gslingacademy.com</td>\n",
       "      <td>female</td>\n",
       "      <td>False</td>\n",
       "      <td>5</td>\n",
       "      <td>False</td>\n",
       "      <td>3</td>\n",
       "      <td>Artist</td>\n",
       "      <td>71</td>\n",
       "      <td>74</td>\n",
       "      <td>88</td>\n",
       "      <td>80</td>\n",
       "      <td>89</td>\n",
       "      <td>63</td>\n",
       "      <td>86</td>\n",
       "    </tr>\n",
       "    <tr>\n",
       "      <th>4</th>\n",
       "      <td>5</td>\n",
       "      <td>Anthony</td>\n",
       "      <td>Campos</td>\n",
       "      <td>anthony.campos.5@gslingacademy.com</td>\n",
       "      <td>male</td>\n",
       "      <td>False</td>\n",
       "      <td>5</td>\n",
       "      <td>False</td>\n",
       "      <td>10</td>\n",
       "      <td>Unknown</td>\n",
       "      <td>84</td>\n",
       "      <td>77</td>\n",
       "      <td>65</td>\n",
       "      <td>65</td>\n",
       "      <td>80</td>\n",
       "      <td>74</td>\n",
       "      <td>76</td>\n",
       "    </tr>\n",
       "  </tbody>\n",
       "</table>\n",
       "</div>"
      ],
      "text/plain": [
       "   id first_name last_name                                  email  gender  \\\n",
       "0   1       Paul     Casey         paul.casey.1@gslingacademy.com    male   \n",
       "1   2   Danielle  Sandoval  danielle.sandoval.2@gslingacademy.com  female   \n",
       "2   3       Tina   Andrews       tina.andrews.3@gslingacademy.com  female   \n",
       "3   4       Tara     Clark         tara.clark.4@gslingacademy.com  female   \n",
       "4   5    Anthony    Campos     anthony.campos.5@gslingacademy.com    male   \n",
       "\n",
       "   part_time_job  absence_days  extracurricular_activities  \\\n",
       "0          False             3                       False   \n",
       "1          False             2                       False   \n",
       "2          False             9                        True   \n",
       "3          False             5                       False   \n",
       "4          False             5                       False   \n",
       "\n",
       "   weekly_self_study_hours   career_aspiration  math_score  history_score  \\\n",
       "0                       27              Lawyer          73             81   \n",
       "1                       47              Doctor          90             86   \n",
       "2                       13  Government Officer          81             97   \n",
       "3                        3              Artist          71             74   \n",
       "4                       10             Unknown          84             77   \n",
       "\n",
       "   physics_score  chemistry_score  biology_score  english_score  \\\n",
       "0             93               97             63             80   \n",
       "1             96              100             90             88   \n",
       "2             95               96             65             77   \n",
       "3             88               80             89             63   \n",
       "4             65               65             80             74   \n",
       "\n",
       "   geography_score  \n",
       "0               87  \n",
       "1               90  \n",
       "2               94  \n",
       "3               86  \n",
       "4               76  "
      ]
     },
     "execution_count": 65,
     "metadata": {},
     "output_type": "execute_result"
    }
   ],
   "source": [
    "df = pd.read_csv('student-scores.csv')\n",
    "df.head()"
   ]
  },
  {
   "cell_type": "code",
   "execution_count": 66,
   "id": "69d52371-394b-4c19-a19d-d6afed67f216",
   "metadata": {},
   "outputs": [],
   "source": [
    "categorical_columns = df.select_dtypes(include=['object']).columns\n",
    "numerical_columns = df.select_dtypes(include=[np.number]).columns.drop('math_score')"
   ]
  },
  {
   "cell_type": "code",
   "execution_count": 67,
   "id": "7c2df62c-d88d-4d08-aabc-d586e1dcb400",
   "metadata": {},
   "outputs": [],
   "source": [
    "X = df.drop('math_score', axis=1)\n",
    "y = df['math_score']"
   ]
  },
  {
   "cell_type": "code",
   "execution_count": 68,
   "id": "063d0d74-def6-4f81-8aed-0d51b87efd10",
   "metadata": {},
   "outputs": [],
   "source": [
    "numerical_transformer = StandardScaler()"
   ]
  },
  {
   "cell_type": "code",
   "execution_count": 69,
   "id": "6c6375c6-3cfb-4c01-9532-5cc7c4b77754",
   "metadata": {},
   "outputs": [],
   "source": [
    "categorical_transformer = OneHotEncoder(handle_unknown='ignore')\n",
    "preprocessor = ColumnTransformer(\n",
    "    transformers=[\n",
    "        ('num', numerical_transformer, numerical_columns),\n",
    "        ('cat', categorical_transformer, categorical_columns)\n",
    "    ])\n",
    "\n",
    "X = preprocessor.fit_transform(X)"
   ]
  },
  {
   "cell_type": "markdown",
   "id": "d82cb7c1-5816-4a6e-adbd-ca2e3819ad1b",
   "metadata": {},
   "source": [
    "# Spliting data into training and testing sets"
   ]
  },
  {
   "cell_type": "code",
   "execution_count": 70,
   "id": "91874652-a26b-4153-aeea-cb42195638a3",
   "metadata": {},
   "outputs": [],
   "source": [
    "X_train, X_test, y_train, y_test = train_test_split(X, y, test_size=0.2, random_state=42)"
   ]
  },
  {
   "cell_type": "code",
   "execution_count": 71,
   "id": "c95e31ca-215f-47b2-b9a1-7e74bada5e8b",
   "metadata": {},
   "outputs": [],
   "source": [
    "def evaluate_model(model, X_train, X_test, y_train, y_test):\n",
    "    model.fit(X_train, y_train)\n",
    "    y_pred = model.predict(X_test)\n",
    "    mse = mean_squared_error(y_test, y_pred)\n",
    "    r2 = r2_score(y_test, y_pred)\n",
    "    print(f'Model: {model.__class__.__name__}')\n",
    "    print(f'Mean Squared Error: {mse}')\n",
    "    print(f'R^2 Score: {r2}')\n",
    "    print('-'*30)"
   ]
  },
  {
   "cell_type": "markdown",
   "id": "c98367aa-b196-4024-a519-bfcdd982c115",
   "metadata": {},
   "source": [
    "# Linear Regression"
   ]
  },
  {
   "cell_type": "code",
   "execution_count": 72,
   "id": "a2c8c986-8279-44a4-814d-d60099e1187a",
   "metadata": {},
   "outputs": [
    {
     "name": "stdout",
     "output_type": "stream",
     "text": [
      "Model: LinearRegression\n",
      "Mean Squared Error: 166.0882212955052\n",
      "R^2 Score: -0.0008618962819777476\n",
      "------------------------------\n"
     ]
    }
   ],
   "source": [
    "from sklearn.linear_model import LinearRegression\n",
    "\n",
    "linear_reg = LinearRegression()\n",
    "evaluate_model(linear_reg, X_train, X_test, y_train, y_test)"
   ]
  },
  {
   "cell_type": "markdown",
   "id": "186027ab-f8d7-44c3-ad22-0094423a7e90",
   "metadata": {},
   "source": [
    "# Ridge Regression"
   ]
  },
  {
   "cell_type": "code",
   "execution_count": 73,
   "id": "dcaa8d6d-dc4a-431e-b3c2-cf2f3f5eb5b2",
   "metadata": {},
   "outputs": [
    {
     "name": "stdout",
     "output_type": "stream",
     "text": [
      "Model: Ridge\n",
      "Mean Squared Error: 151.14396489001803\n",
      "R^2 Score: 0.0891934772288755\n",
      "------------------------------\n"
     ]
    }
   ],
   "source": [
    "from sklearn.linear_model import Ridge\n",
    "\n",
    "ridge_reg = Ridge(alpha=1.0)\n",
    "evaluate_model(ridge_reg, X_train, X_test, y_train, y_test)\n"
   ]
  },
  {
   "cell_type": "markdown",
   "id": "a01c8694-beca-4772-a61f-319a04ce7630",
   "metadata": {},
   "source": [
    "# Lasso Regression"
   ]
  },
  {
   "cell_type": "code",
   "execution_count": 74,
   "id": "015f25ec-c8df-440c-b8c3-fd8a173a4110",
   "metadata": {},
   "outputs": [
    {
     "name": "stdout",
     "output_type": "stream",
     "text": [
      "Model: Lasso\n",
      "Mean Squared Error: 125.59509226679944\n",
      "R^2 Score: 0.243153179500871\n",
      "------------------------------\n"
     ]
    }
   ],
   "source": [
    "from sklearn.linear_model import Lasso\n",
    "\n",
    "lasso_reg = Lasso(alpha=0.1)\n",
    "evaluate_model(lasso_reg, X_train, X_test, y_train, y_test)\n"
   ]
  },
  {
   "cell_type": "markdown",
   "id": "8e4ebe4b-b285-44c9-a79d-26752f855b9f",
   "metadata": {},
   "source": [
    "# ElasticNet Regression"
   ]
  },
  {
   "cell_type": "code",
   "execution_count": 75,
   "id": "4917aac3-852f-4260-ad6a-a39cb1c0819e",
   "metadata": {},
   "outputs": [
    {
     "name": "stdout",
     "output_type": "stream",
     "text": [
      "Model: ElasticNet\n",
      "Mean Squared Error: 125.747757517126\n",
      "R^2 Score: 0.24223320558130956\n",
      "------------------------------\n"
     ]
    }
   ],
   "source": [
    "from sklearn.linear_model import ElasticNet\n",
    "\n",
    "elastic_net_reg = ElasticNet(alpha=0.1, l1_ratio=0.5)\n",
    "evaluate_model(elastic_net_reg, X_train, X_test, y_train, y_test)\n"
   ]
  },
  {
   "cell_type": "markdown",
   "id": "ec8a0b25-2e1e-4482-be22-6f9221b225b7",
   "metadata": {},
   "source": [
    "# Decision Tree Regression"
   ]
  },
  {
   "cell_type": "code",
   "execution_count": 76,
   "id": "f4ecdcb0-7f16-4407-86c9-468d50c6147e",
   "metadata": {},
   "outputs": [
    {
     "name": "stdout",
     "output_type": "stream",
     "text": [
      "Model: DecisionTreeRegressor\n",
      "Mean Squared Error: 239.04\n",
      "R^2 Score: -0.4404755847290094\n",
      "------------------------------\n"
     ]
    }
   ],
   "source": [
    "from sklearn.tree import DecisionTreeRegressor\n",
    "\n",
    "tree_reg = DecisionTreeRegressor(random_state=42)\n",
    "evaluate_model(tree_reg, X_train, X_test, y_train, y_test)\n"
   ]
  },
  {
   "cell_type": "markdown",
   "id": "1c248a13-f580-4d24-b1fb-44082cb3ebcd",
   "metadata": {},
   "source": [
    "# Random Forest Regression"
   ]
  },
  {
   "cell_type": "code",
   "execution_count": 77,
   "id": "b6fdbc22-96ae-46b7-ae65-46f1d4e660a5",
   "metadata": {},
   "outputs": [
    {
     "name": "stdout",
     "output_type": "stream",
     "text": [
      "Model: RandomForestRegressor\n",
      "Mean Squared Error: 141.584788\n",
      "R^2 Score: 0.14679789874902605\n",
      "------------------------------\n"
     ]
    }
   ],
   "source": [
    "from sklearn.ensemble import RandomForestRegressor\n",
    "\n",
    "forest_reg = RandomForestRegressor(n_estimators=100, random_state=42)\n",
    "evaluate_model(forest_reg, X_train, X_test, y_train, y_test)\n"
   ]
  },
  {
   "cell_type": "markdown",
   "id": "042d12b4-ca40-45af-b935-f5ff254e134e",
   "metadata": {},
   "source": [
    "#  Support Vector Regression (SVR)"
   ]
  },
  {
   "cell_type": "code",
   "execution_count": 78,
   "id": "57fa6b92-c443-495b-8a6f-7a590e351e23",
   "metadata": {},
   "outputs": [
    {
     "name": "stdout",
     "output_type": "stream",
     "text": [
      "Model: SVR\n",
      "Mean Squared Error: 144.09719332488498\n",
      "R^2 Score: 0.1316579283280086\n",
      "------------------------------\n"
     ]
    }
   ],
   "source": [
    "from sklearn.svm import SVR\n",
    "\n",
    "svr_reg = SVR(kernel='rbf', C=100, gamma=0.1, epsilon=0.1)\n",
    "evaluate_model(svr_reg, X_train, X_test, y_train, y_test)\n"
   ]
  },
  {
   "cell_type": "markdown",
   "id": "ae5cd8ed-196d-4481-80b1-e98a738dd7ed",
   "metadata": {},
   "source": [
    "# K-Nearest Neighbors Regression"
   ]
  },
  {
   "cell_type": "code",
   "execution_count": 79,
   "id": "c55f57fa-4248-414d-a212-d7bead8d1517",
   "metadata": {},
   "outputs": [
    {
     "name": "stdout",
     "output_type": "stream",
     "text": [
      "Model: KNeighborsRegressor\n",
      "Mean Squared Error: 164.8129\n",
      "R^2 Score: 0.006823299454552512\n",
      "------------------------------\n"
     ]
    }
   ],
   "source": [
    "from sklearn.neighbors import KNeighborsRegressor\n",
    "\n",
    "knn_reg = KNeighborsRegressor(n_neighbors=5)\n",
    "evaluate_model(knn_reg, X_train, X_test, y_train, y_test)\n"
   ]
  },
  {
   "cell_type": "markdown",
   "id": "2c90c5a9-ece6-4ac1-bdd0-b28a50200094",
   "metadata": {},
   "source": [
    "# clustering"
   ]
  },
  {
   "cell_type": "code",
   "execution_count": 80,
   "id": "0b866b19-8961-4119-907e-dbbdd2e37aaa",
   "metadata": {},
   "outputs": [
    {
     "data": {
      "text/plain": [
       "Index(['id', 'first_name', 'last_name', 'email', 'gender', 'part_time_job',\n",
       "       'absence_days', 'extracurricular_activities', 'weekly_self_study_hours',\n",
       "       'career_aspiration', 'math_score', 'history_score', 'physics_score',\n",
       "       'chemistry_score', 'biology_score', 'english_score', 'geography_score'],\n",
       "      dtype='object')"
      ]
     },
     "execution_count": 80,
     "metadata": {},
     "output_type": "execute_result"
    }
   ],
   "source": [
    "df.columns"
   ]
  },
  {
   "cell_type": "code",
   "execution_count": 81,
   "id": "420a2047-7314-4dff-a616-063d8b9cf864",
   "metadata": {},
   "outputs": [],
   "source": [
    "numeric_columns = ['absence_days', 'weekly_self_study_hours', \n",
    "                    'math_score', 'history_score', 'physics_score', \n",
    "                    'chemistry_score', 'biology_score', 'english_score', 'geography_score']"
   ]
  },
  {
   "cell_type": "code",
   "execution_count": 82,
   "id": "77a4acca-3d75-4306-8167-9ce64e1f2c16",
   "metadata": {},
   "outputs": [],
   "source": [
    "X_clustering = df[numeric_columns]"
   ]
  },
  {
   "cell_type": "code",
   "execution_count": 83,
   "id": "07c29b4c-12e4-4950-b9e8-b80bb26c222f",
   "metadata": {},
   "outputs": [],
   "source": [
    "scaler = StandardScaler()\n",
    "X_clustering_transformed = scaler.fit_transform(X_clustering)"
   ]
  },
  {
   "cell_type": "markdown",
   "id": "f5a15f6d-4f76-4aa1-839d-151211d41e58",
   "metadata": {},
   "source": [
    "# Hierarchical Clustering"
   ]
  },
  {
   "cell_type": "code",
   "execution_count": 84,
   "id": "0927ffbc-507f-4e5d-973e-7a4fe6e1b3db",
   "metadata": {},
   "outputs": [
    {
     "name": "stdout",
     "output_type": "stream",
     "text": [
      "Labels: [0 2 0 ... 0 1 2]\n"
     ]
    }
   ],
   "source": [
    "from sklearn.cluster import AgglomerativeClustering\n",
    "\n",
    "agg_clustering = AgglomerativeClustering(n_clusters=3)\n",
    "agg_clustering.fit(X_clustering_transformed)\n",
    "print(f'Labels: {agg_clustering.labels_}')\n"
   ]
  },
  {
   "cell_type": "markdown",
   "id": "40e4c660-cea7-4e76-b489-4727bbcc5b88",
   "metadata": {},
   "source": [
    "# K-Means Clustering"
   ]
  },
  {
   "cell_type": "code",
   "execution_count": 85,
   "id": "19b5cdad-7e06-4ec4-b840-14d4cf938030",
   "metadata": {},
   "outputs": [
    {
     "name": "stdout",
     "output_type": "stream",
     "text": [
      "Cluster Centers: [[ 0.94575144 -1.04336749 -0.98274146 -0.54933653 -0.33511805 -0.38736997\n",
      "  -0.20363512 -0.46797718  0.02386433]\n",
      " [-0.24878994  0.69234716  0.34376462  0.37068439  0.44360669  0.32366183\n",
      "   0.53876027  0.32684354  0.7608758 ]\n",
      " [-0.36434864  0.04436249  0.30565275  0.01808461 -0.17506733 -0.04053413\n",
      "  -0.33674506  0.0059424  -0.66567281]]\n",
      "Labels: [1 1 1 ... 2 0 1]\n"
     ]
    }
   ],
   "source": [
    "from sklearn.cluster import KMeans\n",
    "\n",
    "kmeans = KMeans(n_clusters=3, random_state=42)\n",
    "kmeans.fit(X_clustering_transformed)\n",
    "print(f'Cluster Centers: {kmeans.cluster_centers_}')\n",
    "print(f'Labels: {kmeans.labels_}')\n"
   ]
  },
  {
   "cell_type": "markdown",
   "id": "558037d0-bb77-4599-861c-5d04be4e452b",
   "metadata": {},
   "source": [
    "# DBSCAN Clustering"
   ]
  },
  {
   "cell_type": "code",
   "execution_count": 86,
   "id": "7e95b999-8cbf-4c2d-a94d-86d6e29cefbf",
   "metadata": {},
   "outputs": [
    {
     "name": "stdout",
     "output_type": "stream",
     "text": [
      "Labels: [-1 -1 -1 ... -1 -1 -1]\n"
     ]
    }
   ],
   "source": [
    "from sklearn.cluster import DBSCAN\n",
    "\n",
    "dbscan = DBSCAN(eps=0.5, min_samples=5)\n",
    "dbscan.fit(X_clustering_transformed)\n",
    "print(f'Labels: {dbscan.labels_}')\n"
   ]
  },
  {
   "cell_type": "markdown",
   "id": "4e6030ea-dcb1-4e03-9a11-6a17486f1a0d",
   "metadata": {},
   "source": [
    "# Dimensionality Reduction"
   ]
  },
  {
   "cell_type": "markdown",
   "id": "367c8f64-1ef9-4f8a-87ab-1ce332dfd5c4",
   "metadata": {},
   "source": [
    " ## PCA"
   ]
  },
  {
   "cell_type": "code",
   "execution_count": 87,
   "id": "d7a78bbd-093e-4d07-9837-c1d5ee2823a2",
   "metadata": {},
   "outputs": [
    {
     "name": "stdout",
     "output_type": "stream",
     "text": [
      "PCA Explained Variance Ratio: [0.2398923  0.12012718]\n",
      "PCA Results: [[-0.5623188  -0.50218792]\n",
      " [-3.09130846 -0.8171628 ]\n",
      " [ 0.07186369 -1.45479508]\n",
      " [ 1.37674374 -1.64928491]\n",
      " [ 1.5065839   0.62711889]]\n"
     ]
    }
   ],
   "source": [
    "from sklearn.decomposition import PCA\n",
    "\n",
    "pca = PCA(n_components=2)\n",
    "X_pca = pca.fit_transform(X_clustering_transformed)\n",
    "print(f'PCA Explained Variance Ratio: {pca.explained_variance_ratio_}')\n",
    "print(f'PCA Results: {X_pca[:5]}')\n"
   ]
  },
  {
   "cell_type": "markdown",
   "id": "01e34cae-2ec2-4aba-812a-0eb06248fbdf",
   "metadata": {},
   "source": [
    "## t-SNE"
   ]
  },
  {
   "cell_type": "code",
   "execution_count": 88,
   "id": "131c4f04-0d50-4bbc-b62e-4ae1e6f78f2f",
   "metadata": {},
   "outputs": [
    {
     "name": "stdout",
     "output_type": "stream",
     "text": [
      "t-SNE Results: [[-26.970043  -17.966206 ]\n",
      " [-61.66499    -3.337677 ]\n",
      " [ 40.525494  -14.22424  ]\n",
      " [ 29.499487   14.863927 ]\n",
      " [ 40.270607    1.1094366]]\n"
     ]
    }
   ],
   "source": [
    "from sklearn.manifold import TSNE\n",
    "\n",
    "tsne = TSNE(n_components=2, random_state=42)\n",
    "X_tsne = tsne.fit_transform(X_clustering_transformed)\n",
    "print(f't-SNE Results: {X_tsne[:5]}')\n"
   ]
  },
  {
   "cell_type": "markdown",
   "id": "79b50cf0-2776-4138-850b-f816c5898631",
   "metadata": {},
   "source": [
    "# classification"
   ]
  },
  {
   "cell_type": "code",
   "execution_count": 89,
   "id": "5aab6a69-a859-4dba-bebc-e1e70df32ac2",
   "metadata": {},
   "outputs": [],
   "source": [
    "features = ['absence_days', 'weekly_self_study_hours', 'math_score', \n",
    "            'history_score', 'physics_score', 'chemistry_score', \n",
    "            'biology_score', 'english_score', 'geography_score']\n",
    "target = 'part_time_job'"
   ]
  },
  {
   "cell_type": "code",
   "execution_count": 90,
   "id": "77a52eee-917f-4396-9371-45505e29ae20",
   "metadata": {},
   "outputs": [],
   "source": [
    "label_encoder = LabelEncoder()\n",
    "df[target] = label_encoder.fit_transform(df[target])"
   ]
  },
  {
   "cell_type": "code",
   "execution_count": 91,
   "id": "57b15b01-c07c-4270-991e-6a4739bfe64c",
   "metadata": {},
   "outputs": [],
   "source": [
    "X = df[features]\n",
    "y = df[target]"
   ]
  },
  {
   "cell_type": "code",
   "execution_count": 92,
   "id": "e1cf3b93-e09a-45f9-a80c-af76b495df20",
   "metadata": {},
   "outputs": [],
   "source": [
    "X_train, X_test, y_train, y_test = train_test_split(X, y, test_size=0.2, random_state=42)"
   ]
  },
  {
   "cell_type": "code",
   "execution_count": 93,
   "id": "a9ef027c-1e35-4f04-a500-cd25975fb9bc",
   "metadata": {},
   "outputs": [],
   "source": [
    "scaler = StandardScaler()\n",
    "X_train = scaler.fit_transform(X_train)\n",
    "X_test = scaler.transform(X_test)"
   ]
  },
  {
   "cell_type": "markdown",
   "id": "4abada64-1494-45ad-9084-b2fdbf7f6ba5",
   "metadata": {},
   "source": [
    "# Logistic Regression"
   ]
  },
  {
   "cell_type": "code",
   "execution_count": 94,
   "id": "0b42dfe6-8c53-4d30-bd80-f4f3b12c4e41",
   "metadata": {},
   "outputs": [
    {
     "name": "stdout",
     "output_type": "stream",
     "text": [
      "Logistic Regression - Accuracy: 0.85\n"
     ]
    }
   ],
   "source": [
    "from sklearn.linear_model import LogisticRegression\n",
    "from sklearn.metrics import accuracy_score\n",
    "\n",
    "log_reg = LogisticRegression()\n",
    "log_reg.fit(X_train, y_train)\n",
    "y_pred = log_reg.predict(X_test)\n",
    "accuracy = accuracy_score(y_test, y_pred)\n",
    "print(f'Logistic Regression - Accuracy: {accuracy:.2f}')\n"
   ]
  },
  {
   "cell_type": "markdown",
   "id": "9f03516f-eaab-4d1a-b5bc-8ba9ec381c42",
   "metadata": {},
   "source": [
    "# Random Forest Classifier"
   ]
  },
  {
   "cell_type": "code",
   "execution_count": 95,
   "id": "43deca9a-5e3b-4dff-b14a-64cb514ba8eb",
   "metadata": {},
   "outputs": [
    {
     "name": "stdout",
     "output_type": "stream",
     "text": [
      "Random Forest - Accuracy: 0.84\n"
     ]
    }
   ],
   "source": [
    "from sklearn.ensemble import RandomForestClassifier\n",
    "\n",
    "rf_clf = RandomForestClassifier(n_estimators=100)\n",
    "rf_clf.fit(X_train, y_train)\n",
    "y_pred = rf_clf.predict(X_test)\n",
    "accuracy = accuracy_score(y_test, y_pred)\n",
    "print(f'Random Forest - Accuracy: {accuracy:.2f}')\n"
   ]
  },
  {
   "cell_type": "markdown",
   "id": "08a0b588-7e28-4bac-9738-ed6ad69a0e95",
   "metadata": {},
   "source": [
    "# K-Nearest Neighbors Classifier"
   ]
  },
  {
   "cell_type": "code",
   "execution_count": 96,
   "id": "7b22f15c-152c-4199-a856-7ae5daad2f1a",
   "metadata": {},
   "outputs": [
    {
     "name": "stdout",
     "output_type": "stream",
     "text": [
      "K-Nearest Neighbors - Accuracy: 0.83\n"
     ]
    }
   ],
   "source": [
    "from sklearn.neighbors import KNeighborsClassifier\n",
    "\n",
    "knn = KNeighborsClassifier(n_neighbors=5)\n",
    "knn.fit(X_train, y_train)\n",
    "y_pred = knn.predict(X_test)\n",
    "accuracy = accuracy_score(y_test, y_pred)\n",
    "print(f'K-Nearest Neighbors - Accuracy: {accuracy:.2f}')\n"
   ]
  },
  {
   "cell_type": "code",
   "execution_count": null,
   "id": "7f1ed1e1-f709-4bb5-81c0-83627d050e96",
   "metadata": {},
   "outputs": [],
   "source": []
  }
 ],
 "metadata": {
  "kernelspec": {
   "display_name": "Python 3 (ipykernel)",
   "language": "python",
   "name": "python3"
  },
  "language_info": {
   "codemirror_mode": {
    "name": "ipython",
    "version": 3
   },
   "file_extension": ".py",
   "mimetype": "text/x-python",
   "name": "python",
   "nbconvert_exporter": "python",
   "pygments_lexer": "ipython3",
   "version": "3.12.2"
  }
 },
 "nbformat": 4,
 "nbformat_minor": 5
}
