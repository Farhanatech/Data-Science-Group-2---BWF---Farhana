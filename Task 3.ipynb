{
 "cells": [
  {
   "cell_type": "code",
   "execution_count": 1,
   "id": "cd92bcfe-acc4-4fc2-8b21-1dec6ca1a2d4",
   "metadata": {},
   "outputs": [
    {
     "name": "stdout",
     "output_type": "stream",
     "text": [
      "Hello World\n"
     ]
    }
   ],
   "source": [
    "print(\"Hello World\")"
   ]
  },
  {
   "cell_type": "markdown",
   "id": "48e4331b-7692-410b-8cf6-58e017d41ff5",
   "metadata": {},
   "source": [
    " # Heading 1\n",
    " ## heading 2\n",
    " ### heading 3\n",
    " #### heading 4\n",
    " ##### heading 5\n",
    " ###### heading 6"
   ]
  },
  {
   "cell_type": "markdown",
   "id": "1cddb267-112f-472b-a9d9-4ee0327a85c2",
   "metadata": {},
   "source": [
    " # Unordered list\n",
    "  * Item 1\n",
    "  * Item 2\n",
    "      * sub_list\n",
    "      * sub-sub-list\n",
    " # orderd List\n",
    " * Item 3\n",
    " * Item 4\n",
    "     * Item 1 (sub-list)"
   ]
  },
  {
   "cell_type": "markdown",
   "id": "1d49e4d9-cc71-42c9-b55f-aedbb844d694",
   "metadata": {},
   "source": [
    " __Beautiful__ is better than _ugly_"
   ]
  },
  {
   "cell_type": "code",
   "execution_count": null,
   "id": "76ab98b1-4737-4295-b956-0724e49eca45",
   "metadata": {},
   "outputs": [],
   "source": []
  }
 ],
 "metadata": {
  "kernelspec": {
   "display_name": "Python 3 (ipykernel)",
   "language": "python",
   "name": "python3"
  },
  "language_info": {
   "codemirror_mode": {
    "name": "ipython",
    "version": 3
   },
   "file_extension": ".py",
   "mimetype": "text/x-python",
   "name": "python",
   "nbconvert_exporter": "python",
   "pygments_lexer": "ipython3",
   "version": "3.12.2"
  }
 },
 "nbformat": 4,
 "nbformat_minor": 5
}
