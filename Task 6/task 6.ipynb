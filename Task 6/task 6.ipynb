{
 "cells": [
  {
   "cell_type": "code",
   "execution_count": 4,
   "id": "2da022c1-783a-41a6-a354-9f03cd37b502",
   "metadata": {},
   "outputs": [
    {
     "name": "stdout",
     "output_type": "stream",
     "text": [
      "1,Sara,15,10th\n",
      "\n"
     ]
    }
   ],
   "source": [
    "import os \n",
    "file =open(\"hello.txt\",\"r\")\n",
    "print(file.readline())\n",
    "file.close()\n"
   ]
  },
  {
   "cell_type": "code",
   "execution_count": 5,
   "id": "babf7954-cb24-49b7-bef3-0206e9930630",
   "metadata": {},
   "outputs": [
    {
     "name": "stdout",
     "output_type": "stream",
     "text": [
      "1,Sara,15,10th\n",
      "2,Anaya,18,12th\n",
      "3,Ali,16,10th\n",
      "\n"
     ]
    }
   ],
   "source": [
    "import os \n",
    "file =open(\"hello.txt\",\"r\")\n",
    "print(file.read())\n",
    "file.close()\n"
   ]
  },
  {
   "cell_type": "code",
   "execution_count": 6,
   "id": "dfd4f1f7-ebe3-4084-9ebf-d24db862577b",
   "metadata": {},
   "outputs": [
    {
     "name": "stdout",
     "output_type": "stream",
     "text": [
      "['1,Sara,15,10th\\n', '2,Anaya,18,12th\\n', '3,Ali,16,10th\\n']\n"
     ]
    }
   ],
   "source": [
    "import os \n",
    "file =open(\"hello.txt\",\"r\")\n",
    "print(file.readlines())\n",
    "file.close()\n"
   ]
  },
  {
   "cell_type": "code",
   "execution_count": 7,
   "id": "faa2bbdf-7f0d-4165-922e-1416874a01a9",
   "metadata": {},
   "outputs": [],
   "source": [
    "with open(\"hello.txt\", \"w\") as file:\n",
    "    file.write(\"1,Sara,15,10th\\n\")\n",
    "    file.write(\"2,Anaya,18,12th\\n\")\n",
    "    file.write(\"3,Ali,16,10th\\n\")\n"
   ]
  },
  {
   "cell_type": "code",
   "execution_count": 8,
   "id": "2ce7cbbe-3253-4274-9b59-d9f8728a7427",
   "metadata": {},
   "outputs": [],
   "source": [
    "import os\n",
    "def load_data():\n",
    "    students = []\n",
    "    with open('hello.txt', 'r') as file:\n",
    "        for line in file:\n",
    "            student_id, student_name, student_age, student_grade = line.strip().split(',')\n",
    "            students.append({\n",
    "                'student_id': student_id,\n",
    "                'student_name': student_name,\n",
    "                'student_age': student_age,\n",
    "                'student_grade': student_grade\n",
    "            })\n",
    "    return students\n"
   ]
  },
  {
   "cell_type": "code",
   "execution_count": 9,
   "id": "831c7b80-5bd4-4d08-945e-76175ce7f458",
   "metadata": {},
   "outputs": [
    {
     "name": "stdout",
     "output_type": "stream",
     "text": [
      "Loaded Data\n",
      "Student ID: 1\n",
      "student Name: Sara\n",
      "Student Age: 15\n",
      "Student Grade: 10th\n",
      "\n",
      "Student ID: 2\n",
      "student Name: Anaya\n",
      "Student Age: 18\n",
      "Student Grade: 12th\n",
      "\n",
      "Student ID: 3\n",
      "student Name: Ali\n",
      "Student Age: 16\n",
      "Student Grade: 10th\n",
      "\n"
     ]
    }
   ],
   "source": [
    "students = load_data()\n",
    "print(\"Loaded Data\")\n",
    "for student in students:\n",
    "  print(f\"Student ID: {student['student_id']}\\nstudent Name: {student['student_name']}\\nStudent Age: {student['student_age']}\\nStudent Grade: {student['student_grade']}\\n\")\n",
    "\n"
   ]
  },
  {
   "cell_type": "code",
   "execution_count": 10,
   "id": "5dec054b-4fa1-4970-a029-f1ee52f801bb",
   "metadata": {},
   "outputs": [],
   "source": [
    " def save_data(students):\n",
    "    with open('hello.txt', 'w') as file:\n",
    "        for student in students:\n",
    "            file.write(f\"{student['student_id']},{student['student_name']},{student['student_age']},{student['student_grade']}\\n\")\n",
    "    "
   ]
  },
  {
   "cell_type": "code",
   "execution_count": null,
   "id": "1ca495f8-ceea-432c-baae-3ce12c65f35a",
   "metadata": {},
   "outputs": [],
   "source": [
    " def add_student(students):\n",
    "     student_id = input(\"Enter Student Id =\")\n",
    "     if any(s['student_id'] == student_id\n",
    "            for s in students):\n",
    "        print(\"Student_ID Already  Exists\")\n",
    "        return\n",
    "     student_name = input(\"Enter Student Name = \")\n",
    "     student_age = input(\"Enter Student age = \")\n",
    "     student_grade = input(\"Enter Student Grade = \")\n",
    "     students.append({\n",
    "        'student_id': student_id,\n",
    "        'student_name': student_name,\n",
    "        'student_age': student_age,\n",
    "        'student_grade': student_grade\n",
    "    })\n",
    "    "
   ]
  },
  {
   "cell_type": "code",
   "execution_count": 17,
   "id": "1eec3da5-f344-4525-9db3-8482d43c7fa2",
   "metadata": {},
   "outputs": [],
   "source": [
    "def search_student(students):\n",
    "    student_id = input(\"Enter Student ID \")\n",
    "    for student in students:\n",
    "        if student['student_id'] == student_id:\n",
    "            print(\"Student found!\")\n",
    "            print(student)\n",
    "            return\n",
    "    print(\"student not found\")"
   ]
  },
  {
   "cell_type": "code",
   "execution_count": 18,
   "id": "680f9f2d-d3c4-404e-8be8-1223e002f07f",
   "metadata": {},
   "outputs": [],
   "source": [
    "def delete_student(students):\n",
    "    student_id = input(\"Enter student ID that you want to delete\")\n",
    "    for student in students:\n",
    "          if student['student_id'] == student_id:\n",
    "              print(\"Sure YOu want to Delete Student Data?\")\n",
    "              students.remove(student)\n",
    "              print(\"student Data is deleted\")\n",
    "              return\n",
    "    print(\"Student not found!\")\n",
    "              "
   ]
  },
  {
   "cell_type": "code",
   "execution_count": 19,
   "id": "cadc3e76-a893-4df4-b381-ceba8d01cb9a",
   "metadata": {},
   "outputs": [],
   "source": [
    " def display_Info(students):\n",
    "     for student  in students:\n",
    "         print(student)"
   ]
  },
  {
   "cell_type": "code",
   "execution_count": null,
   "id": "04c2c8e9-1d97-4acc-934b-0ea95a4c196f",
   "metadata": {},
   "outputs": [],
   "source": [
    "  def main():\n",
    "     students = load_data()\n",
    "     while True:\n",
    "         print(\"What You want to Do?\")\n",
    "         print(\"\\n1.Add Student\")\n",
    "         print(\"\\n2.Search Student\")\n",
    "         print(\"\\n3.Delete Student\")\n",
    "         print(\"\\n4.Display Student\")\n",
    "         print(\"\\n5.Exit\")\n",
    "         \n",
    "         choice =input(\"Enter your choice: \")\n",
    "         if choice == '1':\n",
    "             add_student(students)\n",
    "         elif choice == '2':\n",
    "             search_student(students)\n",
    "         elif choice == '3':\n",
    "             delete_student(students)\n",
    "         elif choice == '4':\n",
    "             display_Info(students)\n",
    "         elif choice == '5':\n",
    "             break\n",
    "         else:\n",
    "             print(\"You Entered Invalid Choice! please TRy again\")\n",
    "\n",
    "if __name__ == \"__main__\":\n",
    "    main()"
   ]
  },
  {
   "cell_type": "code",
   "execution_count": null,
   "id": "dfe3d20d-6170-4cb0-a3a9-b7388ef0cacb",
   "metadata": {},
   "outputs": [],
   "source": []
  }
 ],
 "metadata": {
  "kernelspec": {
   "display_name": "Python 3 (ipykernel)",
   "language": "python",
   "name": "python3"
  },
  "language_info": {
   "codemirror_mode": {
    "name": "ipython",
    "version": 3
   },
   "file_extension": ".py",
   "mimetype": "text/x-python",
   "name": "python",
   "nbconvert_exporter": "python",
   "pygments_lexer": "ipython3",
   "version": "3.12.2"
  }
 },
 "nbformat": 4,
 "nbformat_minor": 5
}
